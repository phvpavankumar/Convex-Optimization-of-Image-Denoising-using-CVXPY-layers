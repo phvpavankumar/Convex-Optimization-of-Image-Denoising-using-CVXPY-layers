{
 "cells": [
  {
   "cell_type": "code",
   "execution_count": 1,
   "id": "89706db4",
   "metadata": {
    "id": "89706db4",
    "outputId": "838f72c3-770c-4e79-f579-b11922395dc9"
   },
   "outputs": [
    {
     "name": "stdout",
     "output_type": "stream",
     "text": [
      "1 Physical GPUs, 1 Logical GPUs\n"
     ]
    }
   ],
   "source": [
    "import tensorflow as tf\n",
    "gpus = tf.config.experimental.list_physical_devices('GPU')\n",
    "if gpus:\n",
    "  # Restrict TensorFlow to only allocate 4GB of memory on the first GPU\n",
    "  try:\n",
    "    tf.config.experimental.set_virtual_device_configuration(\n",
    "        gpus[0],\n",
    "        [tf.config.experimental.VirtualDeviceConfiguration(memory_limit=4096)])\n",
    "    logical_gpus = tf.config.experimental.list_logical_devices('GPU')\n",
    "    print(len(gpus), \"Physical GPUs,\", len(logical_gpus), \"Logical GPUs\")\n",
    "  except RuntimeError as e:\n",
    "    # Virtual devices must be set before GPUs have been initialized\n",
    "    print(e)"
   ]
  },
  {
   "cell_type": "code",
   "execution_count": 2,
   "id": "7daf59ce",
   "metadata": {
    "id": "7daf59ce"
   },
   "outputs": [],
   "source": [
    "#Necessary libraries\n",
    "import tensorflow as tf\n",
    "from tensorflow.keras.datasets import mnist\n",
    "from tensorflow.keras.models import Sequential\n",
    "from tensorflow.keras.layers import Dense, Dropout, Flatten, Activation, Conv2D, MaxPooling2D, BatchNormalization\n",
    "import numpy as np\n",
    "import skimage\n",
    "import random\n",
    "from tensorflow.keras.optimizers import Adam\n",
    "import Denoise_layer # The custom built CVXPY layer\n",
    "import matplotlib.pyplot as plt"
   ]
  },
  {
   "cell_type": "code",
   "execution_count": 3,
   "id": "7b6bc10d",
   "metadata": {
    "id": "7b6bc10d"
   },
   "outputs": [],
   "source": [
    "#Getting the MNIST dataset\n",
    "from tensorflow.keras.datasets import mnist\n",
    "\n",
    "(x_train, y_train), (x_test, y_test) = mnist.load_data()"
   ]
  },
  {
   "cell_type": "code",
   "execution_count": 4,
   "id": "5f671a95",
   "metadata": {
    "id": "5f671a95",
    "outputId": "272c4627-686e-401e-ba94-d5dd551265c2"
   },
   "outputs": [
    {
     "data": {
      "text/plain": [
       "((60000, 28, 28), (60000,), (10000, 28, 28), (10000,))"
      ]
     },
     "execution_count": 4,
     "metadata": {},
     "output_type": "execute_result"
    }
   ],
   "source": [
    "x_train.shape,y_train.shape,x_test.shape,y_test.shape #Shapes of the variables"
   ]
  },
  {
   "cell_type": "code",
   "execution_count": 5,
   "id": "-9E5bS6jipNz",
   "metadata": {
    "id": "-9E5bS6jipNz"
   },
   "outputs": [],
   "source": [
    "#number of samples taken\n",
    "train_num = 10000\n",
    "test_num = 2000"
   ]
  },
  {
   "cell_type": "code",
   "execution_count": 6,
   "id": "7e633761",
   "metadata": {
    "id": "7e633761"
   },
   "outputs": [],
   "source": [
    "#slicing the data\n",
    "x_train = x_train[:train_num]\n",
    "y_train = y_train[:train_num]\n",
    "x_test = x_test[:test_num]\n",
    "y_test = y_test[:test_num]"
   ]
  },
  {
   "cell_type": "code",
   "execution_count": 7,
   "id": "30fcd50f",
   "metadata": {
    "id": "30fcd50f",
    "outputId": "86530ad4-2e9a-46d7-867c-971e19ba2851"
   },
   "outputs": [
    {
     "data": {
      "text/plain": [
       "((10000, 28, 28), (10000,), (2000, 28, 28), (2000,))"
      ]
     },
     "execution_count": 7,
     "metadata": {},
     "output_type": "execute_result"
    }
   ],
   "source": [
    "x_train.shape,y_train.shape,x_test.shape,y_test.shape"
   ]
  },
  {
   "cell_type": "code",
   "execution_count": 8,
   "id": "uuvuBpZXvuY1",
   "metadata": {
    "colab": {
     "base_uri": "https://localhost:8080/"
    },
    "id": "uuvuBpZXvuY1",
    "outputId": "4204e1f4-b4f9-48ac-aede-2a0fa517778d"
   },
   "outputs": [
    {
     "data": {
      "text/plain": [
       "(2000,)"
      ]
     },
     "execution_count": 8,
     "metadata": {},
     "output_type": "execute_result"
    }
   ],
   "source": [
    "y_test.shape"
   ]
  },
  {
   "cell_type": "code",
   "execution_count": 9,
   "id": "eb93f584",
   "metadata": {
    "colab": {
     "base_uri": "https://localhost:8080/"
    },
    "id": "eb93f584",
    "outputId": "4b7b8135-9e85-49ab-ac95-da00812620fc"
   },
   "outputs": [
    {
     "name": "stdout",
     "output_type": "stream",
     "text": [
      "10000\n",
      "2000\n"
     ]
    }
   ],
   "source": [
    "#Finding total number of images in training and test set\n",
    "print(len(x_train))\n",
    "print(len(x_test))"
   ]
  },
  {
   "cell_type": "code",
   "execution_count": 10,
   "id": "d93683f4",
   "metadata": {
    "id": "d93683f4"
   },
   "outputs": [],
   "source": [
    "#normalizing the entire data\n",
    "x_train = x_train/255.0\n",
    "x_test = x_test/255.0"
   ]
  },
  {
   "cell_type": "code",
   "execution_count": 11,
   "id": "3abff42e",
   "metadata": {
    "id": "3abff42e"
   },
   "outputs": [],
   "source": [
    "#Reshaping and Normalizing training and test images\n",
    "x_train = x_train.reshape(train_num, 28, 28, 1)\n",
    "\n",
    "x_test = x_test.reshape(test_num, 28, 28, 1)\n"
   ]
  },
  {
   "cell_type": "code",
   "execution_count": 12,
   "id": "e52692c2",
   "metadata": {
    "id": "e52692c2",
    "outputId": "2d6ef977-2fd9-4f06-b7c3-9c5cdf1da647"
   },
   "outputs": [
    {
     "data": {
      "text/plain": [
       "((10000, 28, 28, 1), (10000,), (2000, 28, 28, 1), (2000,))"
      ]
     },
     "execution_count": 12,
     "metadata": {},
     "output_type": "execute_result"
    }
   ],
   "source": [
    "x_train.shape,y_train.shape,x_test.shape,y_test.shape"
   ]
  },
  {
   "cell_type": "code",
   "execution_count": 13,
   "id": "7LIc-JEW12In",
   "metadata": {
    "id": "7LIc-JEW12In"
   },
   "outputs": [],
   "source": [
    "epochs = 10\n",
    "batchSize = 32\n",
    "opt = Adam(learning_rate=0.001)"
   ]
  },
  {
   "cell_type": "code",
   "execution_count": 14,
   "id": "Sy890U0tUdIo",
   "metadata": {
    "id": "Sy890U0tUdIo"
   },
   "outputs": [],
   "source": [
    "#VGG model Building using Keras\n",
    "def VGG16model():\n",
    "  model = Sequential()\n",
    "\n",
    "  model.add(Conv2D(32, 3, activation='relu', padding='same', input_shape=(28, 28, 1)))\n",
    "  model.add(Conv2D(64, 3, activation='relu', padding='same'))\n",
    "  model.add(MaxPooling2D(2, 2))\n",
    "  model.add(BatchNormalization())\n",
    "\n",
    "  model.add(Conv2D(128, 3, activation='relu', padding='same'))\n",
    "  model.add(Conv2D(128, 3, activation='relu', padding='same'))\n",
    "  model.add(MaxPooling2D(2, 2))\n",
    "  model.add(BatchNormalization())\n",
    "\n",
    "  model.add(Conv2D(256, 3, activation='relu', padding='same'))\n",
    "  model.add(Conv2D(256, 3, activation='relu', padding='same'))\n",
    "  model.add(Conv2D(256, 3, activation='relu', padding='same'))\n",
    "  model.add(MaxPooling2D(2, 2))\n",
    "  model.add(BatchNormalization())\n",
    "\n",
    "  model.add(Conv2D(512, 3, activation='relu', padding='same'))\n",
    "  model.add(Conv2D(512, 3, activation='relu', padding='same'))\n",
    "  model.add(Conv2D(512, 3, activation='relu', padding='same'))\n",
    "  model.add(MaxPooling2D(2, 1)) # default stride is 2\n",
    "  model.add(BatchNormalization())\n",
    "\n",
    "  model.add(Conv2D(512, 3, activation='relu', padding='same'))\n",
    "  model.add(Conv2D(512, 3, activation='relu', padding='same'))\n",
    "  model.add(Conv2D(512, 3, activation='relu', padding='same'))\n",
    "  model.add(MaxPooling2D(2, 1)) # default stride is 2\n",
    "  model.add(BatchNormalization())\n",
    "\n",
    "  model.add(Flatten())\n",
    "  model.add(Dense(4096, activation='relu'))\n",
    "  model.add(Dropout(0.5))\n",
    "  model.add(Dense(4096, activation='relu'))\n",
    "  model.add(Dropout(0.5))\n",
    "\n",
    "  model.add(Dense(10, activation='softmax'))\n",
    "  model.compile(optimizer=opt, loss=\"sparse_categorical_crossentropy\", metrics=['accuracy'])\n",
    "  return model"
   ]
  },
  {
   "cell_type": "code",
   "execution_count": 15,
   "id": "358448a1",
   "metadata": {
    "id": "358448a1"
   },
   "outputs": [],
   "source": [
    "#The instance for the cvxpy layer\n",
    "def CVXPYmodel(inp_shape, lam):\n",
    "    \n",
    "    denoise = Denoise_layer.Denoise(input_shape=inp_shape,lam_val=lam,trainable=False)\n",
    "    model = Sequential()\n",
    "    model.add(denoise)\n",
    "    model.compile()\n",
    "    \n",
    "    return model "
   ]
  },
  {
   "cell_type": "code",
   "execution_count": 16,
   "id": "FF1I2Ff8vmIR",
   "metadata": {
    "id": "FF1I2Ff8vmIR"
   },
   "outputs": [],
   "source": [
    "from sklearn.metrics import classification_report,confusion_matrix"
   ]
  },
  {
   "cell_type": "markdown",
   "id": "3SgFbNKyxIvV",
   "metadata": {
    "id": "3SgFbNKyxIvV"
   },
   "source": [
    "### Model-5\n",
    "+ Noise level= 0.5"
   ]
  },
  {
   "cell_type": "code",
   "execution_count": 17,
   "id": "o6mDJzqbwH9A",
   "metadata": {
    "id": "o6mDJzqbwH9A"
   },
   "outputs": [],
   "source": [
    "import skimage\n",
    "import matplotlib.pyplot as plt"
   ]
  },
  {
   "cell_type": "code",
   "execution_count": 19,
   "id": "jfg7ZeVFxMMB",
   "metadata": {
    "id": "jfg7ZeVFxMMB"
   },
   "outputs": [],
   "source": [
    "#Adding noise to the dataset with the level\n",
    "import skimage\n",
    "noise_lvl_2 = 0.5\n",
    "noise_x_train_2 = np.array([skimage.util.random_noise(x, mode='gaussian', seed=42, clip=True, var = noise_lvl_2)  for x in x_train])\n",
    "noise_x_test_2 = np.array([skimage.util.random_noise(x, mode='gaussian', seed=42, clip=True, var = noise_lvl_2) for x in x_test])"
   ]
  },
  {
   "cell_type": "code",
   "execution_count": 20,
   "id": "OnsNpWcXWtmC",
   "metadata": {
    "id": "OnsNpWcXWtmC"
   },
   "outputs": [],
   "source": [
    "model_5 = VGG16model()"
   ]
  },
  {
   "cell_type": "code",
   "execution_count": 21,
   "id": "9OkO4w6B0l_L",
   "metadata": {
    "colab": {
     "base_uri": "https://localhost:8080/"
    },
    "id": "9OkO4w6B0l_L",
    "outputId": "f495fe3e-e64b-4e95-b0ef-ddba14a976a6"
   },
   "outputs": [
    {
     "name": "stderr",
     "output_type": "stream",
     "text": [
      "C:\\Users\\phvpa\\anaconda3\\envs\\CVXPY\\lib\\site-packages\\tensorflow\\python\\data\\ops\\dataset_ops.py:3503: UserWarning: Even though the tf.config.experimental_run_functions_eagerly option is set, this option does not apply to tf.data functions. tf.data functions are still traced and executed as graphs.\n",
      "  warnings.warn(\n"
     ]
    },
    {
     "name": "stdout",
     "output_type": "stream",
     "text": [
      "Epoch 1/10\n",
      "313/313 [==============================] - 30s 48ms/step - loss: 1.6364 - accuracy: 0.5605\n",
      "Epoch 2/10\n",
      "313/313 [==============================] - 11s 36ms/step - loss: 0.4514 - accuracy: 0.8692\n",
      "Epoch 3/10\n",
      "313/313 [==============================] - 11s 34ms/step - loss: 0.3588 - accuracy: 0.9017\n",
      "Epoch 4/10\n",
      "313/313 [==============================] - 10s 33ms/step - loss: 0.3532 - accuracy: 0.9054\n",
      "Epoch 5/10\n",
      "313/313 [==============================] - 11s 34ms/step - loss: 0.2984 - accuracy: 0.9283\n",
      "Epoch 6/10\n",
      "313/313 [==============================] - 11s 36ms/step - loss: 0.2813 - accuracy: 0.9304\n",
      "Epoch 7/10\n",
      "313/313 [==============================] - 11s 35ms/step - loss: 0.2643 - accuracy: 0.9395\n",
      "Epoch 8/10\n",
      "313/313 [==============================] - 12s 37ms/step - loss: 0.1383 - accuracy: 0.9661\n",
      "Epoch 9/10\n",
      "313/313 [==============================] - 11s 34ms/step - loss: 0.1402 - accuracy: 0.9663\n",
      "Epoch 10/10\n",
      "313/313 [==============================] - 11s 35ms/step - loss: 0.1468 - accuracy: 0.9642\n"
     ]
    }
   ],
   "source": [
    "history_5 = model_5.fit(noise_x_train_2, y_train, epochs = epochs, batch_size = batchSize)#training the model"
   ]
  },
  {
   "cell_type": "code",
   "execution_count": 22,
   "id": "rjn9OYc7jAB0",
   "metadata": {
    "id": "rjn9OYc7jAB0"
   },
   "outputs": [],
   "source": [
    "#Function for showing the accuracy and loss plots\n",
    "def ShowPlots(hist):\n",
    "  plt.figure(figsize=(16,6))\n",
    "  plt.subplot(121)\n",
    "  plt.plot(hist.history[\"accuracy\"],'-ro',label=\"Accuracy\")\n",
    "  #plt.plot(hist.history[\"val_accuracy\"],'-bo',label=\"Validation Accuracy\")\n",
    "  plt.legend()\n",
    "  plt.xlabel(\"Epochs\")\n",
    "  plt.ylabel(\"Accuracy\")\n",
    "  plt.subplot(122)\n",
    "  plt.plot(hist.history[\"loss\"],'-ro',label=\"Loss\")\n",
    "  #plt.plot(hist.history[\"val_loss\"],'-bo',label=\"Validation Loss\")\n",
    "  plt.legend()\n",
    "  plt.xlabel(\"Epochs\")\n",
    "  plt.ylabel(\"Loss\")\n",
    "  return plt.show()"
   ]
  },
  {
   "cell_type": "code",
   "execution_count": 23,
   "id": "XDDbAx3fjAsN",
   "metadata": {
    "id": "XDDbAx3fjAsN"
   },
   "outputs": [
    {
     "data": {
      "image/png": "[encoded data removed]",
      "text/plain": [
       "<Figure size 1152x432 with 2 Axes>"
      ]
     },
     "metadata": {
      "needs_background": "light"
     },
     "output_type": "display_data"
    }
   ],
   "source": [
    "ShowPlots(history_5)"
   ]
  },
  {
   "cell_type": "code",
   "execution_count": 24,
   "id": "9xoXtjaE1DCl",
   "metadata": {
    "id": "9xoXtjaE1DCl",
    "outputId": "898f6cfd-ed98-4029-bcd8-297619ed06ec"
   },
   "outputs": [],
   "source": [
    "y_pred_5 = model_5.predict(noise_x_test_2)\n",
    "y_pred_5 = np.argmax(y_pred_5,axis=1)"
   ]
  },
  {
   "cell_type": "code",
   "execution_count": 25,
   "id": "_ihRqbo_2mF7",
   "metadata": {
    "colab": {
     "base_uri": "https://localhost:8080/"
    },
    "id": "_ihRqbo_2mF7",
    "outputId": "d87835cc-179f-4506-8762-b4e7643c502c"
   },
   "outputs": [
    {
     "data": {
      "text/plain": [
       "array([[171,   0,   0,   0,   3,   0,   1,   0,   0,   0],\n",
       "       [  0, 232,   0,   0,   2,   0,   0,   0,   0,   0],\n",
       "       [  1,   3, 209,   0,   1,   0,   1,   4,   0,   0],\n",
       "       [  0, 120,   0,  72,   0,   1,   0,   2,   4,   8],\n",
       "       [  0,   0,   0,   0, 215,   0,   1,   0,   1,   0],\n",
       "       [  0,   0,   0,   1,   2, 166,   0,   0,   7,   3],\n",
       "       [  2,   1,   0,   0,  10,   2, 160,   0,   3,   0],\n",
       "       [  1,   3,   5,   0,   4,   0,   0, 183,   0,   9],\n",
       "       [  0,   1,   1,   0,   2,   0,   0,   0, 182,   6],\n",
       "       [  0,   0,   0,   0,   6,   1,   0,   0,   1, 186]], dtype=int64)"
      ]
     },
     "execution_count": 25,
     "metadata": {},
     "output_type": "execute_result"
    }
   ],
   "source": [
    "confusion_matrix(y_test,y_pred_5)"
   ]
  },
  {
   "cell_type": "code",
   "execution_count": 26,
   "id": "lhVFc02p2zp7",
   "metadata": {
    "colab": {
     "base_uri": "https://localhost:8080/"
    },
    "id": "lhVFc02p2zp7",
    "outputId": "a9d36fdc-44a9-4d16-d335-ed1e601ef37f"
   },
   "outputs": [
    {
     "name": "stdout",
     "output_type": "stream",
     "text": [
      "              precision    recall  f1-score   support\n",
      "\n",
      "           0       0.98      0.98      0.98       175\n",
      "           1       0.64      0.99      0.78       234\n",
      "           2       0.97      0.95      0.96       219\n",
      "           3       0.99      0.35      0.51       207\n",
      "           4       0.88      0.99      0.93       217\n",
      "           5       0.98      0.93      0.95       179\n",
      "           6       0.98      0.90      0.94       178\n",
      "           7       0.97      0.89      0.93       205\n",
      "           8       0.92      0.95      0.93       192\n",
      "           9       0.88      0.96      0.92       194\n",
      "\n",
      "    accuracy                           0.89      2000\n",
      "   macro avg       0.92      0.89      0.88      2000\n",
      "weighted avg       0.91      0.89      0.88      2000\n",
      "\n"
     ]
    }
   ],
   "source": [
    "print(classification_report(y_test,y_pred_5))#classification report"
   ]
  },
  {
   "cell_type": "markdown",
   "id": "e3828862",
   "metadata": {
    "id": "e3828862"
   },
   "source": [
    "### Model-6\n",
    "+ noise level = 0.5\n",
    "+ lamda value = 0.2"
   ]
  },
  {
   "cell_type": "code",
   "execution_count": 27,
   "id": "2da5d3c3",
   "metadata": {
    "id": "2da5d3c3"
   },
   "outputs": [],
   "source": [
    "cvxpy_layer_1 = CVXPYmodel((28,28),0.2)#making the cvxpy model"
   ]
  },
  {
   "cell_type": "code",
   "execution_count": 28,
   "id": "a4763e65",
   "metadata": {
    "id": "a4763e65",
    "outputId": "2f573cf7-701f-4726-d44d-794eba4bf835"
   },
   "outputs": [
    {
     "name": "stderr",
     "output_type": "stream",
     "text": [
      "C:\\Users\\phvpa\\anaconda3\\envs\\CVXPY\\lib\\site-packages\\tensorflow\\python\\data\\ops\\dataset_ops.py:3503: UserWarning: Even though the tf.config.experimental_run_functions_eagerly option is set, this option does not apply to tf.data functions. tf.data functions are still traced and executed as graphs.\n",
      "  warnings.warn(\n"
     ]
    }
   ],
   "source": [
    "denoised_train_1 = cvxpy_layer_1.predict(noise_x_train_2.reshape(train_num,28,28)) #Denoising the input images"
   ]
  },
  {
   "cell_type": "code",
   "execution_count": 29,
   "id": "1c2500c9",
   "metadata": {
    "id": "1c2500c9",
    "outputId": "6ab84fc7-a77d-4592-f8a8-3a0e51a450c1"
   },
   "outputs": [
    {
     "data": {
      "text/plain": [
       "(10000, 28, 28, 1)"
      ]
     },
     "execution_count": 29,
     "metadata": {},
     "output_type": "execute_result"
    }
   ],
   "source": [
    "denoised_train_1.shape"
   ]
  },
  {
   "cell_type": "code",
   "execution_count": 30,
   "id": "62f1000f",
   "metadata": {
    "id": "62f1000f"
   },
   "outputs": [],
   "source": [
    "model_6 = VGG16model()"
   ]
  },
  {
   "cell_type": "code",
   "execution_count": 32,
   "id": "ce93d774",
   "metadata": {
    "id": "ce93d774",
    "outputId": "1f7782c5-1793-4198-ac54-46e6af582d82"
   },
   "outputs": [
    {
     "name": "stdout",
     "output_type": "stream",
     "text": [
      "Epoch 1/10\n",
      "313/313 [==============================] - 11s 34ms/step - loss: 9.1689 - accuracy: 0.1312\n",
      "Epoch 2/10\n",
      "313/313 [==============================] - 11s 35ms/step - loss: 1.9712 - accuracy: 0.2710\n",
      "Epoch 3/10\n",
      "313/313 [==============================] - 11s 34ms/step - loss: 1.4437 - accuracy: 0.4750\n",
      "Epoch 4/10\n",
      "313/313 [==============================] - 11s 34ms/step - loss: 0.9592 - accuracy: 0.6568\n",
      "Epoch 5/10\n",
      "313/313 [==============================] - 10s 33ms/step - loss: 0.6688 - accuracy: 0.7863\n",
      "Epoch 6/10\n",
      "313/313 [==============================] - 11s 35ms/step - loss: 0.5281 - accuracy: 0.8386\n",
      "Epoch 7/10\n",
      "313/313 [==============================] - 12s 37ms/step - loss: 0.4397 - accuracy: 0.8691\n",
      "Epoch 8/10\n",
      "313/313 [==============================] - 11s 34ms/step - loss: 0.3730 - accuracy: 0.8916\n",
      "Epoch 9/10\n",
      "313/313 [==============================] - 11s 34ms/step - loss: 0.3864 - accuracy: 0.8880\n",
      "Epoch 10/10\n",
      "313/313 [==============================] - 11s 34ms/step - loss: 0.3138 - accuracy: 0.9148\n"
     ]
    }
   ],
   "source": [
    "history_6 = model_6.fit(denoised_train_1,y_train,epochs= epochs,batch_size= batchSize)#training the model with the denoised data"
   ]
  },
  {
   "cell_type": "code",
   "execution_count": 33,
   "id": "yyKXklGBjmEB",
   "metadata": {
    "id": "yyKXklGBjmEB"
   },
   "outputs": [
    {
     "data": {
      "image/png": "[encoded data removed]",
      "text/plain": [
       "<Figure size 1152x432 with 2 Axes>"
      ]
     },
     "metadata": {
      "needs_background": "light"
     },
     "output_type": "display_data"
    }
   ],
   "source": [
    "ShowPlots(history_6)"
   ]
  },
  {
   "cell_type": "code",
   "execution_count": 34,
   "id": "1da64ef5",
   "metadata": {
    "id": "1da64ef5",
    "outputId": "5c0b1db7-0ded-467e-e52d-f1956d59438b"
   },
   "outputs": [],
   "source": [
    "denoised_test_1 = cvxpy_layer_1.predict(noise_x_test_2.reshape(test_num,28,28))#Denoising the input images"
   ]
  },
  {
   "cell_type": "code",
   "execution_count": 35,
   "id": "8ea2e353",
   "metadata": {
    "id": "8ea2e353",
    "outputId": "935fae9b-1807-4dfd-b8ca-03180677ac8b"
   },
   "outputs": [
    {
     "data": {
      "text/plain": [
       "(2000, 28, 28, 1)"
      ]
     },
     "execution_count": 35,
     "metadata": {},
     "output_type": "execute_result"
    }
   ],
   "source": [
    "denoised_test_1.shape"
   ]
  },
  {
   "cell_type": "code",
   "execution_count": 37,
   "id": "4cd6b945",
   "metadata": {
    "id": "4cd6b945"
   },
   "outputs": [],
   "source": [
    "y_pred_6 = model_6.predict(denoised_test_1) #Predicting the denoised test data\n",
    "y_pred_6 =np.argmax(y_pred_6,axis=1)"
   ]
  },
  {
   "cell_type": "code",
   "execution_count": 38,
   "id": "9a41b1b7",
   "metadata": {
    "id": "9a41b1b7",
    "outputId": "e8751ea3-dd56-462d-c049-7bedffcf44a7"
   },
   "outputs": [
    {
     "data": {
      "text/plain": [
       "array([[170,   0,   1,   0,   0,   0,   1,   0,   3,   0],\n",
       "       [  0, 230,   1,   0,   0,   0,   2,   0,   1,   0],\n",
       "       [  0,   1, 216,   0,   0,   0,   2,   0,   0,   0],\n",
       "       [  1,   0,  30, 170,   0,   0,   0,   1,   5,   0],\n",
       "       [  1,  16,   0,   0, 103,   1,  47,   1,  41,   7],\n",
       "       [ 35,   0,   0,   7,   0, 120,   0,   0,  17,   0],\n",
       "       [ 35,   0,   0,   0,   0,   0, 143,   0,   0,   0],\n",
       "       [  0,  11,  25,   2,   0,   0,   0, 162,   5,   0],\n",
       "       [ 23,   0, 116,   0,   0,   0,   2,   0,  51,   0],\n",
       "       [  0,   1,   1,   5,   1,   0,   1,  16,  58, 111]], dtype=int64)"
      ]
     },
     "execution_count": 38,
     "metadata": {},
     "output_type": "execute_result"
    }
   ],
   "source": [
    "confusion_matrix(y_test,y_pred_6)"
   ]
  },
  {
   "cell_type": "code",
   "execution_count": 40,
   "id": "f1acb708",
   "metadata": {
    "id": "f1acb708",
    "outputId": "f92418b3-1adc-4f9c-f529-275eb4dc1626"
   },
   "outputs": [
    {
     "name": "stdout",
     "output_type": "stream",
     "text": [
      "              precision    recall  f1-score   support\n",
      "\n",
      "           0       0.64      0.97      0.77       175\n",
      "           1       0.89      0.98      0.93       234\n",
      "           2       0.55      0.99      0.71       219\n",
      "           3       0.92      0.82      0.87       207\n",
      "           4       0.99      0.47      0.64       217\n",
      "           5       0.99      0.67      0.80       179\n",
      "           6       0.72      0.80      0.76       178\n",
      "           7       0.90      0.79      0.84       205\n",
      "           8       0.28      0.27      0.27       192\n",
      "           9       0.94      0.57      0.71       194\n",
      "\n",
      "    accuracy                           0.74      2000\n",
      "   macro avg       0.78      0.73      0.73      2000\n",
      "weighted avg       0.79      0.74      0.73      2000\n",
      "\n"
     ]
    }
   ],
   "source": [
    "print(classification_report(y_test,y_pred_6))"
   ]
  },
  {
   "cell_type": "code",
   "execution_count": 41,
   "id": "bb062392",
   "metadata": {
    "id": "bb062392"
   },
   "outputs": [],
   "source": [
    "import math \n",
    "import numpy as np \n",
    "#function for calculating the PSNR value\n",
    "def calculate_psnr(img1, img2): \n",
    "    # img1 and img2 have range [0, 255] \n",
    "    img1 = img1.astype(np.float64) \n",
    "    img2 = img2.astype(np.float64) \n",
    "    mse = np.mean((img1 - img2)**2) \n",
    "    if mse == 0:\n",
    "        return float('inf') \n",
    "    return 20 * math.log10(1.0 / math.sqrt(mse))"
   ]
  },
  {
   "cell_type": "code",
   "execution_count": 42,
   "id": "fb2cac7b",
   "metadata": {
    "id": "fb2cac7b",
    "outputId": "aff45b33-c7d9-415c-9908-4ed700128a7c"
   },
   "outputs": [
    {
     "data": {
      "text/plain": [
       "<matplotlib.image.AxesImage at 0x1bb75a76e50>"
      ]
     },
     "execution_count": 42,
     "metadata": {},
     "output_type": "execute_result"
    },
    {
     "data": {
      "image/png": "[encoded data removed]",
      "text/plain": [
       "<Figure size 432x288 with 1 Axes>"
      ]
     },
     "metadata": {
      "needs_background": "light"
     },
     "output_type": "display_data"
    }
   ],
   "source": [
    "plt.imshow(denoised_train_1[0],cmap='gray')"
   ]
  },
  {
   "cell_type": "code",
   "execution_count": 43,
   "id": "9774cf4a",
   "metadata": {
    "id": "9774cf4a",
    "outputId": "ba803b52-1c7e-40c4-efc2-846e0034c19c"
   },
   "outputs": [
    {
     "data": {
      "text/plain": [
       "<matplotlib.image.AxesImage at 0x1bb6d2d5550>"
      ]
     },
     "execution_count": 43,
     "metadata": {},
     "output_type": "execute_result"
    },
    {
     "data": {
      "image/png": "[encoded data removed]",
      "text/plain": [
       "<Figure size 432x288 with 1 Axes>"
      ]
     },
     "metadata": {
      "needs_background": "light"
     },
     "output_type": "display_data"
    }
   ],
   "source": [
    "plt.imshow(noise_x_train_2[0],cmap='gray')"
   ]
  },
  {
   "cell_type": "code",
   "execution_count": 44,
   "id": "36d0618a",
   "metadata": {
    "id": "36d0618a",
    "outputId": "0dae3e5e-493f-44e8-d8fc-06ddf0a98b23"
   },
   "outputs": [
    {
     "data": {
      "text/plain": [
       "11.81571409362926"
      ]
     },
     "execution_count": 44,
     "metadata": {},
     "output_type": "execute_result"
    }
   ],
   "source": [
    "calculate_psnr(x_train[0],denoised_train_1[0])#1"
   ]
  },
  {
   "cell_type": "code",
   "execution_count": 45,
   "id": "d1d44ecc",
   "metadata": {
    "id": "d1d44ecc",
    "outputId": "74ac0589-f376-4d5f-c330-289dd554ce33"
   },
   "outputs": [
    {
     "data": {
      "text/plain": [
       "7.7724401292329794"
      ]
     },
     "execution_count": 45,
     "metadata": {},
     "output_type": "execute_result"
    }
   ],
   "source": [
    "calculate_psnr(x_train[0],noise_x_train_2[0]) #1"
   ]
  },
  {
   "cell_type": "code",
   "execution_count": 65,
   "id": "671c9d3d",
   "metadata": {},
   "outputs": [
    {
     "data": {
      "text/plain": [
       "11.374221177007664"
      ]
     },
     "execution_count": 65,
     "metadata": {},
     "output_type": "execute_result"
    }
   ],
   "source": [
    "psnr_denoised_1 = 0\n",
    "for i,j in zip(x_train,denoised_train_1):\n",
    "    psnr_denoised_1 = calculate_psnr(i,j) + psnr_denoised_1\n",
    "psnr_denoised_1 = psnr_denoised_1/x_train.shape[0]\n",
    "psnr_denoised_1"
   ]
  },
  {
   "cell_type": "code",
   "execution_count": 66,
   "id": "855ad75c",
   "metadata": {},
   "outputs": [
    {
     "data": {
      "text/plain": [
       "7.591076036370816"
      ]
     },
     "execution_count": 66,
     "metadata": {},
     "output_type": "execute_result"
    }
   ],
   "source": [
    "psnr_noised_1 = 0\n",
    "for i,j in zip(x_train,noise_x_train_2):\n",
    "    psnr_noised_1 = calculate_psnr(i,j) + psnr_noised_1\n",
    "psnr_noised_1 = psnr_noised_1/x_train.shape[0]\n",
    "psnr_noised_1"
   ]
  },
  {
   "cell_type": "markdown",
   "id": "a3d40c66",
   "metadata": {
    "id": "a3d40c66"
   },
   "source": [
    "### Model-7\n",
    "+ noise level = 0.5\n",
    "+ lambda value = 0.5"
   ]
  },
  {
   "cell_type": "code",
   "execution_count": 46,
   "id": "c0affab1",
   "metadata": {
    "id": "c0affab1"
   },
   "outputs": [],
   "source": [
    "cvxpy_layer_2 = CVXPYmodel((28,28),0.5) #instance for cvxpy model"
   ]
  },
  {
   "cell_type": "code",
   "execution_count": 47,
   "id": "9f65284d",
   "metadata": {
    "id": "9f65284d"
   },
   "outputs": [
    {
     "name": "stderr",
     "output_type": "stream",
     "text": [
      "C:\\Users\\phvpa\\anaconda3\\envs\\CVXPY\\lib\\site-packages\\tensorflow\\python\\data\\ops\\dataset_ops.py:3503: UserWarning: Even though the tf.config.experimental_run_functions_eagerly option is set, this option does not apply to tf.data functions. tf.data functions are still traced and executed as graphs.\n",
      "  warnings.warn(\n"
     ]
    }
   ],
   "source": [
    "denoised_train_2 = cvxpy_layer_2.predict(noise_x_train_2.reshape(train_num,28,28)) #Denoising the input images"
   ]
  },
  {
   "cell_type": "code",
   "execution_count": 48,
   "id": "b8adf3b4",
   "metadata": {
    "id": "b8adf3b4"
   },
   "outputs": [],
   "source": [
    "model_7 = VGG16model()"
   ]
  },
  {
   "cell_type": "code",
   "execution_count": 49,
   "id": "s292QDSV3Kt8",
   "metadata": {
    "id": "s292QDSV3Kt8"
   },
   "outputs": [
    {
     "name": "stdout",
     "output_type": "stream",
     "text": [
      "Epoch 1/10\n",
      "313/313 [==============================] - 10s 33ms/step - loss: 7.2655 - accuracy: 0.1145\n",
      "Epoch 2/10\n",
      "313/313 [==============================] - 10s 33ms/step - loss: 2.2069 - accuracy: 0.1706\n",
      "Epoch 3/10\n",
      "313/313 [==============================] - 10s 33ms/step - loss: 1.9629 - accuracy: 0.2547\n",
      "Epoch 4/10\n",
      "313/313 [==============================] - 10s 33ms/step - loss: 1.7521 - accuracy: 0.3097\n",
      "Epoch 5/10\n",
      "313/313 [==============================] - 10s 33ms/step - loss: 1.4815 - accuracy: 0.4048\n",
      "Epoch 6/10\n",
      "313/313 [==============================] - 10s 33ms/step - loss: 1.1189 - accuracy: 0.5892\n",
      "Epoch 7/10\n",
      "313/313 [==============================] - 10s 33ms/step - loss: 0.8800 - accuracy: 0.7003\n",
      "Epoch 8/10\n",
      "313/313 [==============================] - 11s 34ms/step - loss: 1.3808 - accuracy: 0.5192\n",
      "Epoch 9/10\n",
      "313/313 [==============================] - 11s 34ms/step - loss: 0.9312 - accuracy: 0.6853\n",
      "Epoch 10/10\n",
      "313/313 [==============================] - 11s 34ms/step - loss: 0.7020 - accuracy: 0.7858\n"
     ]
    }
   ],
   "source": [
    "history_7 = model_7.fit(denoised_train_2,y_train,epochs= epochs,batch_size= batchSize)#training with the denoised images"
   ]
  },
  {
   "cell_type": "code",
   "execution_count": 50,
   "id": "GnrOAfZrXnbI",
   "metadata": {
    "id": "GnrOAfZrXnbI"
   },
   "outputs": [
    {
     "data": {
      "image/png": "[encoded data removed]",
      "text/plain": [
       "<Figure size 1152x432 with 2 Axes>"
      ]
     },
     "metadata": {
      "needs_background": "light"
     },
     "output_type": "display_data"
    }
   ],
   "source": [
    "ShowPlots(history_7)"
   ]
  },
  {
   "cell_type": "code",
   "execution_count": 51,
   "id": "rkMipKs43x9M",
   "metadata": {
    "id": "rkMipKs43x9M"
   },
   "outputs": [],
   "source": [
    "denoised_test_2 = cvxpy_layer_2.predict(noise_x_test_2.reshape(test_num,28,28)) #Denoising the input images-test"
   ]
  },
  {
   "cell_type": "code",
   "execution_count": 52,
   "id": "4xBYkKYf4N65",
   "metadata": {
    "id": "4xBYkKYf4N65"
   },
   "outputs": [],
   "source": [
    "y_pred_7 = model_7.predict(denoised_test_2)#Predicting the denoised test data\n",
    "y_pred_7 = np.argmax(y_pred_7,axis=1)"
   ]
  },
  {
   "cell_type": "code",
   "execution_count": 53,
   "id": "SQ-oOVV6m9GM",
   "metadata": {
    "id": "SQ-oOVV6m9GM"
   },
   "outputs": [
    {
     "data": {
      "text/plain": [
       "array([[159,   1,  11,   0,   0,   0,   1,   0,   3,   0],\n",
       "       [  0, 230,   0,   0,   0,   0,   4,   0,   0,   0],\n",
       "       [  4,   0, 175,   0,   0,   0,  26,   1,  12,   1],\n",
       "       [  1,   1,  11,  38,   0, 106,   2,   4,  43,   1],\n",
       "       [  0,  66,   0,   0, 142,   0,   8,   0,   0,   1],\n",
       "       [  0,   0,   7,   0,   1,  14,  17,   2, 135,   3],\n",
       "       [  3,   1,   1,   0,   0,   0, 173,   0,   0,   0],\n",
       "       [  0,  11,   2,   0,  23,   2,   1, 123,   5,  38],\n",
       "       [  0,   4,   7,   0,   3,   0,  84,   1,  92,   1],\n",
       "       [  1,  11,   0,   0,  84,   0,   1,   4,  12,  81]], dtype=int64)"
      ]
     },
     "execution_count": 53,
     "metadata": {},
     "output_type": "execute_result"
    }
   ],
   "source": [
    "confusion_matrix(y_test,y_pred_7)#confusion matrix"
   ]
  },
  {
   "cell_type": "code",
   "execution_count": 54,
   "id": "5L-fLffj4fJr",
   "metadata": {
    "colab": {
     "base_uri": "https://localhost:8080/"
    },
    "id": "5L-fLffj4fJr",
    "outputId": "19d534df-4f99-4d33-87bb-1cd73a973f13"
   },
   "outputs": [
    {
     "name": "stdout",
     "output_type": "stream",
     "text": [
      "              precision    recall  f1-score   support\n",
      "\n",
      "           0       0.95      0.91      0.93       175\n",
      "           1       0.71      0.98      0.82       234\n",
      "           2       0.82      0.80      0.81       219\n",
      "           3       1.00      0.18      0.31       207\n",
      "           4       0.56      0.65      0.60       217\n",
      "           5       0.11      0.08      0.09       179\n",
      "           6       0.55      0.97      0.70       178\n",
      "           7       0.91      0.60      0.72       205\n",
      "           8       0.30      0.48      0.37       192\n",
      "           9       0.64      0.42      0.51       194\n",
      "\n",
      "    accuracy                           0.61      2000\n",
      "   macro avg       0.66      0.61      0.59      2000\n",
      "weighted avg       0.66      0.61      0.59      2000\n",
      "\n"
     ]
    }
   ],
   "source": [
    "print(classification_report(y_test,y_pred_7))"
   ]
  },
  {
   "cell_type": "code",
   "execution_count": 55,
   "id": "zQvVbrCenT_D",
   "metadata": {
    "id": "zQvVbrCenT_D"
   },
   "outputs": [
    {
     "data": {
      "text/plain": [
       "<matplotlib.image.AxesImage at 0x1bb56ff3fa0>"
      ]
     },
     "execution_count": 55,
     "metadata": {},
     "output_type": "execute_result"
    },
    {
     "data": {
      "image/png": "[encoded data removed]",
      "text/plain": [
       "<Figure size 432x288 with 1 Axes>"
      ]
     },
     "metadata": {
      "needs_background": "light"
     },
     "output_type": "display_data"
    }
   ],
   "source": [
    "plt.imshow(denoised_train_2[0],cmap='gray')#denoised image"
   ]
  },
  {
   "cell_type": "code",
   "execution_count": 57,
   "id": "WCkBBkivnXka",
   "metadata": {
    "id": "WCkBBkivnXka"
   },
   "outputs": [
    {
     "data": {
      "text/plain": [
       "<matplotlib.image.AxesImage at 0x1bb5700ebe0>"
      ]
     },
     "execution_count": 57,
     "metadata": {},
     "output_type": "execute_result"
    },
    {
     "data": {
      "image/png": "[encoded data removed]",
      "text/plain": [
       "<Figure size 432x288 with 1 Axes>"
      ]
     },
     "metadata": {
      "needs_background": "light"
     },
     "output_type": "display_data"
    }
   ],
   "source": [
    "plt.imshow(noise_x_train_2[0],cmap='gray')#noise image"
   ]
  },
  {
   "cell_type": "code",
   "execution_count": 59,
   "id": "O-OUkwUinabg",
   "metadata": {
    "id": "O-OUkwUinabg"
   },
   "outputs": [
    {
     "data": {
      "text/plain": [
       "12.27896054071902"
      ]
     },
     "execution_count": 59,
     "metadata": {},
     "output_type": "execute_result"
    }
   ],
   "source": [
    "calculate_psnr(x_train[0],denoised_train_2[0])#1"
   ]
  },
  {
   "cell_type": "code",
   "execution_count": 61,
   "id": "yGNV-kGqnfGB",
   "metadata": {
    "id": "yGNV-kGqnfGB"
   },
   "outputs": [
    {
     "data": {
      "text/plain": [
       "7.7724401292329794"
      ]
     },
     "execution_count": 61,
     "metadata": {},
     "output_type": "execute_result"
    }
   ],
   "source": [
    "calculate_psnr(x_train[0],noise_x_train_2[0])"
   ]
  },
  {
   "cell_type": "code",
   "execution_count": 64,
   "id": "FusgBKE-e1YO",
   "metadata": {
    "colab": {
     "base_uri": "https://localhost:8080/",
     "height": 243
    },
    "id": "FusgBKE-e1YO",
    "outputId": "6ebabeb4-e16b-47df-e6da-670706873a1d"
   },
   "outputs": [
    {
     "data": {
      "image/png": "[encoded data removed]",
      "text/plain": [
       "<Figure size 1152x576 with 4 Axes>"
      ]
     },
     "metadata": {
      "needs_background": "light"
     },
     "output_type": "display_data"
    }
   ],
   "source": [
    "fig = plt.figure(figsize=(16,8))\n",
    "\n",
    "plt.subplot(1, 4, 1)\n",
    "plt.imshow(x_train[10].reshape(28,28),cmap='gray')\n",
    "plt.xlabel(\"Original Image\")\n",
    "plt.subplot(1, 4, 2)\n",
    "plt.imshow(noise_x_train_2[10].reshape(28,28),cmap='gray')\n",
    "plt.xlabel(\"Noisy image[Level=0.5]\")\n",
    "plt.subplot(1, 4, 3)\n",
    "plt.imshow(denoised_train_1[10].reshape(28,28),cmap='gray')\n",
    "plt.xlabel(\"Denoised image[Lamda=0.2]\")\n",
    "plt.subplot(1, 4, 4)\n",
    "plt.imshow(denoised_train_2[10].reshape(28,28),cmap='gray')\n",
    "plt.xlabel(\"Denoised image[Lamda=0.5]\")\n",
    "plt.show()"
   ]
  },
  {
   "cell_type": "code",
   "execution_count": null,
   "id": "48d0caa1",
   "metadata": {},
   "outputs": [],
   "source": []
  }
 ],
 "metadata": {
  "accelerator": "GPU",
  "colab": {
   "collapsed_sections": [],
   "name": "Model_5_6_7_noise_0_5.ipynb",
   "provenance": []
  },
  "kernelspec": {
   "display_name": "Python 3",
   "language": "python",
   "name": "python3"
  },
  "language_info": {
   "codemirror_mode": {
    "name": "ipython",
    "version": 3
   },
   "file_extension": ".py",
   "mimetype": "text/x-python",
   "name": "python",
   "nbconvert_exporter": "python",
   "pygments_lexer": "ipython3",
   "version": "3.8.8"
  }
 },
 "nbformat": 4,
 "nbformat_minor": 5
}
