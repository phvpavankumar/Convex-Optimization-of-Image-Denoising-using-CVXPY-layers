{
 "cells": [
  {
   "cell_type": "code",
   "execution_count": 1,
   "id": "89706db4",
   "metadata": {
    "id": "89706db4",
    "outputId": "838f72c3-770c-4e79-f579-b11922395dc9"
   },
   "outputs": [
    {
     "name": "stdout",
     "output_type": "stream",
     "text": [
      "1 Physical GPUs, 1 Logical GPUs\n"
     ]
    }
   ],
   "source": [
    "import tensorflow as tf\n",
    "gpus = tf.config.experimental.list_physical_devices('GPU')\n",
    "if gpus:\n",
    "  # Restrict TensorFlow to only allocate 4GB of memory on the first GPU\n",
    "  try:\n",
    "    tf.config.experimental.set_virtual_device_configuration(\n",
    "        gpus[0],\n",
    "        [tf.config.experimental.VirtualDeviceConfiguration(memory_limit=4096)])\n",
    "    logical_gpus = tf.config.experimental.list_logical_devices('GPU')\n",
    "    print(len(gpus), \"Physical GPUs,\", len(logical_gpus), \"Logical GPUs\")\n",
    "  except RuntimeError as e:\n",
    "    # Virtual devices must be set before GPUs have been initialized\n",
    "    print(e)"
   ]
  },
  {
   "cell_type": "code",
   "execution_count": 2,
   "id": "7daf59ce",
   "metadata": {
    "id": "7daf59ce"
   },
   "outputs": [],
   "source": [
    "#Necessary libraries\n",
    "import tensorflow as tf\n",
    "from tensorflow.keras.datasets import mnist\n",
    "from tensorflow.keras.models import Sequential\n",
    "from tensorflow.keras.layers import Dense, Dropout, Flatten, Activation, Conv2D, MaxPooling2D, BatchNormalization\n",
    "import numpy as np\n",
    "import skimage\n",
    "import random\n",
    "from tensorflow.keras.optimizers import Adam\n",
    "import Denoise_layer # The custom built CVXPY layer\n",
    "import matplotlib.pyplot as plt"
   ]
  },
  {
   "cell_type": "code",
   "execution_count": 3,
   "id": "7b6bc10d",
   "metadata": {
    "id": "7b6bc10d"
   },
   "outputs": [],
   "source": [
    "#Getting the MNIST dataset\n",
    "from tensorflow.keras.datasets import mnist\n",
    "\n",
    "(x_train, y_train), (x_test, y_test) = mnist.load_data()"
   ]
  },
  {
   "cell_type": "code",
   "execution_count": 4,
   "id": "5f671a95",
   "metadata": {
    "id": "5f671a95",
    "outputId": "272c4627-686e-401e-ba94-d5dd551265c2"
   },
   "outputs": [
    {
     "data": {
      "text/plain": [
       "((60000, 28, 28), (60000,), (10000, 28, 28), (10000,))"
      ]
     },
     "execution_count": 4,
     "metadata": {},
     "output_type": "execute_result"
    }
   ],
   "source": [
    "x_train.shape,y_train.shape,x_test.shape,y_test.shape #Shapes of the variables"
   ]
  },
  {
   "cell_type": "code",
   "execution_count": 5,
   "id": "-9E5bS6jipNz",
   "metadata": {
    "id": "-9E5bS6jipNz"
   },
   "outputs": [],
   "source": [
    "#number of samples taken\n",
    "train_num = 10000\n",
    "test_num = 2000"
   ]
  },
  {
   "cell_type": "code",
   "execution_count": 6,
   "id": "7e633761",
   "metadata": {
    "id": "7e633761"
   },
   "outputs": [],
   "source": [
    "#slicing the data\n",
    "x_train = x_train[:train_num]\n",
    "y_train = y_train[:train_num]\n",
    "x_test = x_test[:test_num]\n",
    "y_test = y_test[:test_num]"
   ]
  },
  {
   "cell_type": "code",
   "execution_count": 7,
   "id": "30fcd50f",
   "metadata": {
    "id": "30fcd50f",
    "outputId": "86530ad4-2e9a-46d7-867c-971e19ba2851"
   },
   "outputs": [
    {
     "data": {
      "text/plain": [
       "((10000, 28, 28), (10000,), (2000, 28, 28), (2000,))"
      ]
     },
     "execution_count": 7,
     "metadata": {},
     "output_type": "execute_result"
    }
   ],
   "source": [
    "x_train.shape,y_train.shape,x_test.shape,y_test.shape"
   ]
  },
  {
   "cell_type": "code",
   "execution_count": 8,
   "id": "uuvuBpZXvuY1",
   "metadata": {
    "colab": {
     "base_uri": "https://localhost:8080/"
    },
    "id": "uuvuBpZXvuY1",
    "outputId": "4204e1f4-b4f9-48ac-aede-2a0fa517778d"
   },
   "outputs": [
    {
     "data": {
      "text/plain": [
       "(2000,)"
      ]
     },
     "execution_count": 8,
     "metadata": {},
     "output_type": "execute_result"
    }
   ],
   "source": [
    "y_test.shape"
   ]
  },
  {
   "cell_type": "code",
   "execution_count": 9,
   "id": "eb93f584",
   "metadata": {
    "colab": {
     "base_uri": "https://localhost:8080/"
    },
    "id": "eb93f584",
    "outputId": "4b7b8135-9e85-49ab-ac95-da00812620fc"
   },
   "outputs": [
    {
     "name": "stdout",
     "output_type": "stream",
     "text": [
      "10000\n",
      "2000\n"
     ]
    }
   ],
   "source": [
    "#Finding total number of images in training and test set\n",
    "print(len(x_train))\n",
    "print(len(x_test))"
   ]
  },
  {
   "cell_type": "code",
   "execution_count": 10,
   "id": "d93683f4",
   "metadata": {
    "id": "d93683f4"
   },
   "outputs": [],
   "source": [
    "#normalizing the entire data\n",
    "x_train = x_train/255.0\n",
    "x_test = x_test/255.0"
   ]
  },
  {
   "cell_type": "code",
   "execution_count": 11,
   "id": "3abff42e",
   "metadata": {
    "id": "3abff42e"
   },
   "outputs": [],
   "source": [
    "#Reshaping and Normalizing training and test images\n",
    "x_train = x_train.reshape(train_num, 28, 28, 1)\n",
    "\n",
    "x_test = x_test.reshape(test_num, 28, 28, 1)\n"
   ]
  },
  {
   "cell_type": "code",
   "execution_count": 12,
   "id": "e52692c2",
   "metadata": {
    "id": "e52692c2",
    "outputId": "2d6ef977-2fd9-4f06-b7c3-9c5cdf1da647"
   },
   "outputs": [
    {
     "data": {
      "text/plain": [
       "((10000, 28, 28, 1), (10000,), (2000, 28, 28, 1), (2000,))"
      ]
     },
     "execution_count": 12,
     "metadata": {},
     "output_type": "execute_result"
    }
   ],
   "source": [
    "x_train.shape,y_train.shape,x_test.shape,y_test.shape"
   ]
  },
  {
   "cell_type": "code",
   "execution_count": 13,
   "id": "7LIc-JEW12In",
   "metadata": {
    "id": "7LIc-JEW12In"
   },
   "outputs": [],
   "source": [
    "epochs = 10\n",
    "batchSize = 32\n",
    "opt = Adam(learning_rate=0.001)"
   ]
  },
  {
   "cell_type": "code",
   "execution_count": 14,
   "id": "Sy890U0tUdIo",
   "metadata": {
    "id": "Sy890U0tUdIo"
   },
   "outputs": [],
   "source": [
    "#VGG model Building using Keras\n",
    "def VGG16model():\n",
    "  model = Sequential()\n",
    "\n",
    "  model.add(Conv2D(32, 3, activation='relu', padding='same', input_shape=(28, 28, 1)))\n",
    "  model.add(Conv2D(64, 3, activation='relu', padding='same'))\n",
    "  model.add(MaxPooling2D(2, 2))\n",
    "  model.add(BatchNormalization())\n",
    "\n",
    "  model.add(Conv2D(128, 3, activation='relu', padding='same'))\n",
    "  model.add(Conv2D(128, 3, activation='relu', padding='same'))\n",
    "  model.add(MaxPooling2D(2, 2))\n",
    "  model.add(BatchNormalization())\n",
    "\n",
    "  model.add(Conv2D(256, 3, activation='relu', padding='same'))\n",
    "  model.add(Conv2D(256, 3, activation='relu', padding='same'))\n",
    "  model.add(Conv2D(256, 3, activation='relu', padding='same'))\n",
    "  model.add(MaxPooling2D(2, 2))\n",
    "  model.add(BatchNormalization())\n",
    "\n",
    "  model.add(Conv2D(512, 3, activation='relu', padding='same'))\n",
    "  model.add(Conv2D(512, 3, activation='relu', padding='same'))\n",
    "  model.add(Conv2D(512, 3, activation='relu', padding='same'))\n",
    "  model.add(MaxPooling2D(2, 1)) # default stride is 2\n",
    "  model.add(BatchNormalization())\n",
    "\n",
    "  model.add(Conv2D(512, 3, activation='relu', padding='same'))\n",
    "  model.add(Conv2D(512, 3, activation='relu', padding='same'))\n",
    "  model.add(Conv2D(512, 3, activation='relu', padding='same'))\n",
    "  model.add(MaxPooling2D(2, 1)) # default stride is 2\n",
    "  model.add(BatchNormalization())\n",
    "\n",
    "  model.add(Flatten())\n",
    "  model.add(Dense(4096, activation='relu'))\n",
    "  model.add(Dropout(0.5))\n",
    "  model.add(Dense(4096, activation='relu'))\n",
    "  model.add(Dropout(0.5))\n",
    "\n",
    "  model.add(Dense(10, activation='softmax'))\n",
    "  model.compile(optimizer=opt, loss=\"sparse_categorical_crossentropy\", metrics=['accuracy'])\n",
    "  return model"
   ]
  },
  {
   "cell_type": "code",
   "execution_count": 15,
   "id": "358448a1",
   "metadata": {
    "id": "358448a1"
   },
   "outputs": [],
   "source": [
    "#The instance for the cvxpy layer\n",
    "def CVXPYmodel(inp_shape, lam):\n",
    "    \n",
    "    denoise = Denoise_layer.Denoise(input_shape=inp_shape,lam_val=lam,trainable=False)\n",
    "    model = Sequential()\n",
    "    model.add(denoise)\n",
    "    model.compile()\n",
    "    \n",
    "    return model "
   ]
  },
  {
   "cell_type": "code",
   "execution_count": 16,
   "id": "FF1I2Ff8vmIR",
   "metadata": {
    "id": "FF1I2Ff8vmIR"
   },
   "outputs": [],
   "source": [
    "from sklearn.metrics import classification_report,confusion_matrix"
   ]
  },
  {
   "cell_type": "markdown",
   "id": "3SgFbNKyxIvV",
   "metadata": {
    "id": "3SgFbNKyxIvV"
   },
   "source": [
    "### Model-5\n",
    "+ Noise level= 0.5"
   ]
  },
  {
   "cell_type": "code",
   "execution_count": 17,
   "id": "o6mDJzqbwH9A",
   "metadata": {
    "id": "o6mDJzqbwH9A"
   },
   "outputs": [],
   "source": [
    "import skimage\n",
    "import matplotlib.pyplot as plt"
   ]
  },
  {
   "cell_type": "code",
   "execution_count": 18,
   "id": "jfg7ZeVFxMMB",
   "metadata": {
    "id": "jfg7ZeVFxMMB"
   },
   "outputs": [],
   "source": [
    "#Adding noise to the dataset with the level\n",
    "import skimage\n",
    "noise_lvl_2 = 0.5\n",
    "noise_x_train_2 = np.array([skimage.util.random_noise(x, mode='gaussian', seed=42, clip=True, var = noise_lvl_2)  for x in x_train])\n",
    "noise_x_test_2 = np.array([skimage.util.random_noise(x, mode='gaussian', seed=42, clip=True, var = noise_lvl_2) for x in x_test])"
   ]
  },
  {
   "cell_type": "code",
   "execution_count": 19,
   "id": "OnsNpWcXWtmC",
   "metadata": {
    "id": "OnsNpWcXWtmC"
   },
   "outputs": [],
   "source": [
    "model_5 = VGG16model()"
   ]
  },
  {
   "cell_type": "code",
   "execution_count": 20,
   "id": "9OkO4w6B0l_L",
   "metadata": {
    "colab": {
     "base_uri": "https://localhost:8080/"
    },
    "id": "9OkO4w6B0l_L",
    "outputId": "f495fe3e-e64b-4e95-b0ef-ddba14a976a6"
   },
   "outputs": [
    {
     "name": "stderr",
     "output_type": "stream",
     "text": [
      "C:\\Users\\phvpa\\anaconda3\\envs\\CVXPY\\lib\\site-packages\\tensorflow\\python\\data\\ops\\dataset_ops.py:3503: UserWarning: Even though the tf.config.experimental_run_functions_eagerly option is set, this option does not apply to tf.data functions. tf.data functions are still traced and executed as graphs.\n",
      "  warnings.warn(\n"
     ]
    },
    {
     "name": "stdout",
     "output_type": "stream",
     "text": [
      "Epoch 1/10\n",
      "313/313 [==============================] - 23s 44ms/step - loss: 1.4879 - accuracy: 0.6154\n",
      "Epoch 2/10\n",
      "313/313 [==============================] - 10s 31ms/step - loss: 0.3393 - accuracy: 0.9053\n",
      "Epoch 3/10\n",
      "313/313 [==============================] - 10s 31ms/step - loss: 0.2939 - accuracy: 0.9217\n",
      "Epoch 4/10\n",
      "313/313 [==============================] - 10s 32ms/step - loss: 0.3437 - accuracy: 0.9117\n",
      "Epoch 5/10\n",
      "313/313 [==============================] - 10s 32ms/step - loss: 0.2740 - accuracy: 0.9382\n",
      "Epoch 6/10\n",
      "313/313 [==============================] - 10s 32ms/step - loss: 0.3457 - accuracy: 0.9227\n",
      "Epoch 7/10\n",
      "313/313 [==============================] - 10s 32ms/step - loss: 0.1927 - accuracy: 0.9536\n",
      "Epoch 8/10\n",
      "313/313 [==============================] - 10s 32ms/step - loss: 0.2048 - accuracy: 0.9528\n",
      "Epoch 9/10\n",
      "313/313 [==============================] - 10s 32ms/step - loss: 0.1708 - accuracy: 0.9622\n",
      "Epoch 10/10\n",
      "313/313 [==============================] - 10s 32ms/step - loss: 0.1511 - accuracy: 0.9686\n"
     ]
    }
   ],
   "source": [
    "history_5 = model_5.fit(noise_x_train_2, y_train, epochs = epochs, batch_size = batchSize)#training the model"
   ]
  },
  {
   "cell_type": "code",
   "execution_count": 21,
   "id": "rjn9OYc7jAB0",
   "metadata": {
    "id": "rjn9OYc7jAB0"
   },
   "outputs": [],
   "source": [
    "#Function for showing the accuracy and loss plots\n",
    "def ShowPlots(hist):\n",
    "  plt.figure(figsize=(16,6))\n",
    "  plt.subplot(121)\n",
    "  plt.plot(hist.history[\"accuracy\"],'-ro',label=\"Accuracy\")\n",
    "  #plt.plot(hist.history[\"val_accuracy\"],'-bo',label=\"Validation Accuracy\")\n",
    "  plt.legend()\n",
    "  plt.xlabel(\"Epochs\")\n",
    "  plt.ylabel(\"Accuracy\")\n",
    "  plt.subplot(122)\n",
    "  plt.plot(hist.history[\"loss\"],'-ro',label=\"Loss\")\n",
    "  #plt.plot(hist.history[\"val_loss\"],'-bo',label=\"Validation Loss\")\n",
    "  plt.legend()\n",
    "  plt.xlabel(\"Epochs\")\n",
    "  plt.ylabel(\"Loss\")\n",
    "  return plt.show()"
   ]
  },
  {
   "cell_type": "code",
   "execution_count": 22,
   "id": "XDDbAx3fjAsN",
   "metadata": {
    "id": "XDDbAx3fjAsN"
   },
   "outputs": [
    {
     "data": {
      "image/png": "[encoded data removed]",
      "text/plain": [
       "<Figure size 1152x432 with 2 Axes>"
      ]
     },
     "metadata": {
      "needs_background": "light"
     },
     "output_type": "display_data"
    }
   ],
   "source": [
    "ShowPlots(history_5)"
   ]
  },
  {
   "cell_type": "code",
   "execution_count": 23,
   "id": "9xoXtjaE1DCl",
   "metadata": {
    "id": "9xoXtjaE1DCl",
    "outputId": "898f6cfd-ed98-4029-bcd8-297619ed06ec"
   },
   "outputs": [],
   "source": [
    "y_pred_5 = model_5.predict(noise_x_test_2)\n",
    "y_pred_5 = np.argmax(y_pred_5,axis=1)"
   ]
  },
  {
   "cell_type": "code",
   "execution_count": 24,
   "id": "_ihRqbo_2mF7",
   "metadata": {
    "colab": {
     "base_uri": "https://localhost:8080/"
    },
    "id": "_ihRqbo_2mF7",
    "outputId": "d87835cc-179f-4506-8762-b4e7643c502c"
   },
   "outputs": [
    {
     "data": {
      "text/plain": [
       "array([[171,   0,   2,   0,   0,   0,   2,   0,   0,   0],\n",
       "       [  0, 226,   4,   3,   0,   1,   0,   0,   0,   0],\n",
       "       [  0,   0, 213,   5,   0,   0,   1,   0,   0,   0],\n",
       "       [  0,   0,   0, 200,   0,   1,   0,   6,   0,   0],\n",
       "       [  2,   0,   1,   1, 177,   0,   8,   0,   3,  25],\n",
       "       [  0,   0,   0,   4,   0, 173,   0,   1,   1,   0],\n",
       "       [  5,   0,   0,   0,   0,  13, 159,   0,   1,   0],\n",
       "       [  0,   0,   9,  21,   0,   2,   0, 171,   0,   2],\n",
       "       [  0,   0,   4,   3,   0,   0,   1,   0, 183,   1],\n",
       "       [  0,   0,   2,   2,   1,   0,   0,   1,  12, 176]], dtype=int64)"
      ]
     },
     "execution_count": 24,
     "metadata": {},
     "output_type": "execute_result"
    }
   ],
   "source": [
    "confusion_matrix(y_test,y_pred_5)"
   ]
  },
  {
   "cell_type": "code",
   "execution_count": 25,
   "id": "lhVFc02p2zp7",
   "metadata": {
    "colab": {
     "base_uri": "https://localhost:8080/"
    },
    "id": "lhVFc02p2zp7",
    "outputId": "a9d36fdc-44a9-4d16-d335-ed1e601ef37f"
   },
   "outputs": [
    {
     "name": "stdout",
     "output_type": "stream",
     "text": [
      "              precision    recall  f1-score   support\n",
      "\n",
      "           0       0.96      0.98      0.97       175\n",
      "           1       1.00      0.97      0.98       234\n",
      "           2       0.91      0.97      0.94       219\n",
      "           3       0.84      0.97      0.90       207\n",
      "           4       0.99      0.82      0.90       217\n",
      "           5       0.91      0.97      0.94       179\n",
      "           6       0.93      0.89      0.91       178\n",
      "           7       0.96      0.83      0.89       205\n",
      "           8       0.92      0.95      0.93       192\n",
      "           9       0.86      0.91      0.88       194\n",
      "\n",
      "    accuracy                           0.92      2000\n",
      "   macro avg       0.93      0.93      0.92      2000\n",
      "weighted avg       0.93      0.92      0.92      2000\n",
      "\n"
     ]
    }
   ],
   "source": [
    "print(classification_report(y_test,y_pred_5))#classification report"
   ]
  },
  {
   "cell_type": "markdown",
   "id": "e3828862",
   "metadata": {
    "id": "e3828862"
   },
   "source": [
    "### Model-6\n",
    "+ noise level = 0.5\n",
    "+ lamda value = 0.1"
   ]
  },
  {
   "cell_type": "code",
   "execution_count": 26,
   "id": "2da5d3c3",
   "metadata": {
    "id": "2da5d3c3"
   },
   "outputs": [],
   "source": [
    "cvxpy_layer_1 = CVXPYmodel((28,28),0.1)#making the cvxpy model"
   ]
  },
  {
   "cell_type": "code",
   "execution_count": 27,
   "id": "a4763e65",
   "metadata": {
    "id": "a4763e65",
    "outputId": "2f573cf7-701f-4726-d44d-794eba4bf835"
   },
   "outputs": [
    {
     "name": "stderr",
     "output_type": "stream",
     "text": [
      "C:\\Users\\phvpa\\anaconda3\\envs\\CVXPY\\lib\\site-packages\\tensorflow\\python\\data\\ops\\dataset_ops.py:3503: UserWarning: Even though the tf.config.experimental_run_functions_eagerly option is set, this option does not apply to tf.data functions. tf.data functions are still traced and executed as graphs.\n",
      "  warnings.warn(\n"
     ]
    }
   ],
   "source": [
    "denoised_train_1 = cvxpy_layer_1.predict(noise_x_train_2.reshape(train_num,28,28)) #Denoising the input images"
   ]
  },
  {
   "cell_type": "code",
   "execution_count": 28,
   "id": "1c2500c9",
   "metadata": {
    "id": "1c2500c9",
    "outputId": "6ab84fc7-a77d-4592-f8a8-3a0e51a450c1"
   },
   "outputs": [
    {
     "data": {
      "text/plain": [
       "(10000, 28, 28, 1)"
      ]
     },
     "execution_count": 28,
     "metadata": {},
     "output_type": "execute_result"
    }
   ],
   "source": [
    "denoised_train_1.shape"
   ]
  },
  {
   "cell_type": "code",
   "execution_count": 29,
   "id": "62f1000f",
   "metadata": {
    "id": "62f1000f"
   },
   "outputs": [],
   "source": [
    "model_6 = VGG16model()"
   ]
  },
  {
   "cell_type": "code",
   "execution_count": 30,
   "id": "ce93d774",
   "metadata": {
    "id": "ce93d774",
    "outputId": "1f7782c5-1793-4198-ac54-46e6af582d82"
   },
   "outputs": [
    {
     "name": "stdout",
     "output_type": "stream",
     "text": [
      "Epoch 1/10\n",
      "313/313 [==============================] - 10s 32ms/step - loss: 7.7124 - accuracy: 0.2277\n",
      "Epoch 2/10\n",
      "313/313 [==============================] - 10s 32ms/step - loss: 1.4793 - accuracy: 0.4715\n",
      "Epoch 3/10\n",
      "313/313 [==============================] - 10s 32ms/step - loss: 1.0611 - accuracy: 0.6297\n",
      "Epoch 4/10\n",
      "313/313 [==============================] - 10s 32ms/step - loss: 0.8331 - accuracy: 0.7253\n",
      "Epoch 5/10\n",
      "313/313 [==============================] - 10s 32ms/step - loss: 0.7121 - accuracy: 0.7573\n",
      "Epoch 6/10\n",
      "313/313 [==============================] - 10s 32ms/step - loss: 0.6968 - accuracy: 0.7755\n",
      "Epoch 7/10\n",
      "313/313 [==============================] - 10s 32ms/step - loss: 0.5854 - accuracy: 0.8053\n",
      "Epoch 8/10\n",
      "313/313 [==============================] - 10s 32ms/step - loss: 0.5508 - accuracy: 0.8303\n",
      "Epoch 9/10\n",
      "313/313 [==============================] - 10s 32ms/step - loss: 0.5376 - accuracy: 0.8438\n",
      "Epoch 10/10\n",
      "313/313 [==============================] - 10s 32ms/step - loss: 0.3962 - accuracy: 0.8902\n"
     ]
    }
   ],
   "source": [
    "history_6 = model_6.fit(denoised_train_1,y_train,epochs= epochs,batch_size= batchSize)#training the model with the denoised data"
   ]
  },
  {
   "cell_type": "code",
   "execution_count": 31,
   "id": "yyKXklGBjmEB",
   "metadata": {
    "id": "yyKXklGBjmEB"
   },
   "outputs": [
    {
     "data": {
      "image/png": "[encoded data removed]",
      "text/plain": [
       "<Figure size 1152x432 with 2 Axes>"
      ]
     },
     "metadata": {
      "needs_background": "light"
     },
     "output_type": "display_data"
    }
   ],
   "source": [
    "ShowPlots(history_6)"
   ]
  },
  {
   "cell_type": "code",
   "execution_count": 32,
   "id": "1da64ef5",
   "metadata": {
    "id": "1da64ef5",
    "outputId": "5c0b1db7-0ded-467e-e52d-f1956d59438b"
   },
   "outputs": [],
   "source": [
    "denoised_test_1 = cvxpy_layer_1.predict(noise_x_test_2.reshape(test_num,28,28))#Denoising the input images"
   ]
  },
  {
   "cell_type": "code",
   "execution_count": 33,
   "id": "8ea2e353",
   "metadata": {
    "id": "8ea2e353",
    "outputId": "935fae9b-1807-4dfd-b8ca-03180677ac8b"
   },
   "outputs": [
    {
     "data": {
      "text/plain": [
       "(2000, 28, 28, 1)"
      ]
     },
     "execution_count": 33,
     "metadata": {},
     "output_type": "execute_result"
    }
   ],
   "source": [
    "denoised_test_1.shape"
   ]
  },
  {
   "cell_type": "code",
   "execution_count": 34,
   "id": "4cd6b945",
   "metadata": {
    "id": "4cd6b945"
   },
   "outputs": [],
   "source": [
    "y_pred_6 = model_6.predict(denoised_test_1) #Predicting the denoised test data\n",
    "y_pred_6 =np.argmax(y_pred_6,axis=1)"
   ]
  },
  {
   "cell_type": "code",
   "execution_count": 35,
   "id": "9a41b1b7",
   "metadata": {
    "id": "9a41b1b7",
    "outputId": "e8751ea3-dd56-462d-c049-7bedffcf44a7"
   },
   "outputs": [
    {
     "data": {
      "text/plain": [
       "array([[172,   0,   2,   0,   0,   0,   1,   0,   0,   0],\n",
       "       [  0, 220,   1,   8,   0,   0,   0,   0,   5,   0],\n",
       "       [ 15,   0, 204,   0,   0,   0,   0,   0,   0,   0],\n",
       "       [  0,   0,  78, 110,   0,   0,   0,   1,  18,   0],\n",
       "       [  1,   2,   0,   1,  80,  33,   8,   2,   4,  86],\n",
       "       [ 12,   0,   1,   1,   0,  12,   0,   0, 151,   2],\n",
       "       [ 34,   2,   0,   0,   0,   0, 138,   0,   4,   0],\n",
       "       [  0,   0,  10,  11,   0,   0,   0, 180,   3,   1],\n",
       "       [ 61,   0,  87,   1,   0,   1,   0,   1,  39,   2],\n",
       "       [  1,   0,   0,   2,   0,   2,   0,  24,  18, 147]], dtype=int64)"
      ]
     },
     "execution_count": 35,
     "metadata": {},
     "output_type": "execute_result"
    }
   ],
   "source": [
    "confusion_matrix(y_test,y_pred_6)"
   ]
  },
  {
   "cell_type": "code",
   "execution_count": 36,
   "id": "f1acb708",
   "metadata": {
    "id": "f1acb708",
    "outputId": "f92418b3-1adc-4f9c-f529-275eb4dc1626"
   },
   "outputs": [
    {
     "name": "stdout",
     "output_type": "stream",
     "text": [
      "              precision    recall  f1-score   support\n",
      "\n",
      "           0       0.58      0.98      0.73       175\n",
      "           1       0.98      0.94      0.96       234\n",
      "           2       0.53      0.93      0.68       219\n",
      "           3       0.82      0.53      0.65       207\n",
      "           4       1.00      0.37      0.54       217\n",
      "           5       0.25      0.07      0.11       179\n",
      "           6       0.94      0.78      0.85       178\n",
      "           7       0.87      0.88      0.87       205\n",
      "           8       0.16      0.20      0.18       192\n",
      "           9       0.62      0.76      0.68       194\n",
      "\n",
      "    accuracy                           0.65      2000\n",
      "   macro avg       0.67      0.64      0.62      2000\n",
      "weighted avg       0.69      0.65      0.63      2000\n",
      "\n"
     ]
    }
   ],
   "source": [
    "print(classification_report(y_test,y_pred_6))"
   ]
  },
  {
   "cell_type": "code",
   "execution_count": 37,
   "id": "bb062392",
   "metadata": {
    "id": "bb062392"
   },
   "outputs": [],
   "source": [
    "import math \n",
    "import numpy as np \n",
    "#function for calculating the PSNR value\n",
    "def calculate_psnr(img1, img2): \n",
    "    # img1 and img2 have range [0, 255] \n",
    "    img1 = img1.astype(np.float64) \n",
    "    img2 = img2.astype(np.float64) \n",
    "    mse = np.mean((img1 - img2)**2) \n",
    "    if mse == 0:\n",
    "        return float('inf') \n",
    "    return 20 * math.log10(1.0 / math.sqrt(mse))"
   ]
  },
  {
   "cell_type": "code",
   "execution_count": 38,
   "id": "fb2cac7b",
   "metadata": {
    "id": "fb2cac7b",
    "outputId": "aff45b33-c7d9-415c-9908-4ed700128a7c"
   },
   "outputs": [
    {
     "data": {
      "text/plain": [
       "<matplotlib.image.AxesImage at 0x26353b34b50>"
      ]
     },
     "execution_count": 38,
     "metadata": {},
     "output_type": "execute_result"
    },
    {
     "data": {
      "image/png": "[encoded data removed]",
      "text/plain": [
       "<Figure size 432x288 with 1 Axes>"
      ]
     },
     "metadata": {
      "needs_background": "light"
     },
     "output_type": "display_data"
    }
   ],
   "source": [
    "plt.imshow(denoised_train_1[0],cmap='gray')"
   ]
  },
  {
   "cell_type": "code",
   "execution_count": 39,
   "id": "9774cf4a",
   "metadata": {
    "id": "9774cf4a",
    "outputId": "ba803b52-1c7e-40c4-efc2-846e0034c19c"
   },
   "outputs": [
    {
     "data": {
      "text/plain": [
       "<matplotlib.image.AxesImage at 0x263556e6df0>"
      ]
     },
     "execution_count": 39,
     "metadata": {},
     "output_type": "execute_result"
    },
    {
     "data": {
      "image/png": "[encoded data removed]",
      "text/plain": [
       "<Figure size 432x288 with 1 Axes>"
      ]
     },
     "metadata": {
      "needs_background": "light"
     },
     "output_type": "display_data"
    }
   ],
   "source": [
    "plt.imshow(noise_x_train_2[0],cmap='gray')"
   ]
  },
  {
   "cell_type": "code",
   "execution_count": 40,
   "id": "36d0618a",
   "metadata": {
    "id": "36d0618a",
    "outputId": "0dae3e5e-493f-44e8-d8fc-06ddf0a98b23"
   },
   "outputs": [
    {
     "data": {
      "text/plain": [
       "10.959334639766835"
      ]
     },
     "execution_count": 40,
     "metadata": {},
     "output_type": "execute_result"
    }
   ],
   "source": [
    "calculate_psnr(x_train[0],denoised_train_1[0])#1"
   ]
  },
  {
   "cell_type": "code",
   "execution_count": 41,
   "id": "d1d44ecc",
   "metadata": {
    "id": "d1d44ecc",
    "outputId": "74ac0589-f376-4d5f-c330-289dd554ce33"
   },
   "outputs": [
    {
     "data": {
      "text/plain": [
       "7.7724401292329794"
      ]
     },
     "execution_count": 41,
     "metadata": {},
     "output_type": "execute_result"
    }
   ],
   "source": [
    "calculate_psnr(x_train[0],noise_x_train_2[0]) #1"
   ]
  },
  {
   "cell_type": "code",
   "execution_count": 42,
   "id": "671c9d3d",
   "metadata": {},
   "outputs": [
    {
     "data": {
      "text/plain": [
       "10.57404222508106"
      ]
     },
     "execution_count": 42,
     "metadata": {},
     "output_type": "execute_result"
    }
   ],
   "source": [
    "psnr_denoised_1 = 0\n",
    "for i,j in zip(x_train,denoised_train_1):\n",
    "    psnr_denoised_1 = calculate_psnr(i,j) + psnr_denoised_1\n",
    "psnr_denoised_1 = psnr_denoised_1/x_train.shape[0]\n",
    "psnr_denoised_1"
   ]
  },
  {
   "cell_type": "code",
   "execution_count": 43,
   "id": "855ad75c",
   "metadata": {},
   "outputs": [
    {
     "data": {
      "text/plain": [
       "7.591076036370816"
      ]
     },
     "execution_count": 43,
     "metadata": {},
     "output_type": "execute_result"
    }
   ],
   "source": [
    "psnr_noised_1 = 0\n",
    "for i,j in zip(x_train,noise_x_train_2):\n",
    "    psnr_noised_1 = calculate_psnr(i,j) + psnr_noised_1\n",
    "psnr_noised_1 = psnr_noised_1/x_train.shape[0]\n",
    "psnr_noised_1"
   ]
  },
  {
   "cell_type": "markdown",
   "id": "a3d40c66",
   "metadata": {
    "id": "a3d40c66"
   },
   "source": [
    "### Model-7\n",
    "+ noise level = 0.5\n",
    "+ lambda value = 0.3"
   ]
  },
  {
   "cell_type": "code",
   "execution_count": 44,
   "id": "c0affab1",
   "metadata": {
    "id": "c0affab1"
   },
   "outputs": [],
   "source": [
    "cvxpy_layer_2 = CVXPYmodel((28,28),0.3) #instance for cvxpy model"
   ]
  },
  {
   "cell_type": "code",
   "execution_count": 45,
   "id": "9f65284d",
   "metadata": {
    "id": "9f65284d"
   },
   "outputs": [
    {
     "name": "stderr",
     "output_type": "stream",
     "text": [
      "C:\\Users\\phvpa\\anaconda3\\envs\\CVXPY\\lib\\site-packages\\tensorflow\\python\\data\\ops\\dataset_ops.py:3503: UserWarning: Even though the tf.config.experimental_run_functions_eagerly option is set, this option does not apply to tf.data functions. tf.data functions are still traced and executed as graphs.\n",
      "  warnings.warn(\n"
     ]
    }
   ],
   "source": [
    "denoised_train_2 = cvxpy_layer_2.predict(noise_x_train_2.reshape(train_num,28,28)) #Denoising the input images"
   ]
  },
  {
   "cell_type": "code",
   "execution_count": 46,
   "id": "b8adf3b4",
   "metadata": {
    "id": "b8adf3b4"
   },
   "outputs": [],
   "source": [
    "model_7 = VGG16model()"
   ]
  },
  {
   "cell_type": "code",
   "execution_count": 47,
   "id": "s292QDSV3Kt8",
   "metadata": {
    "id": "s292QDSV3Kt8"
   },
   "outputs": [
    {
     "name": "stdout",
     "output_type": "stream",
     "text": [
      "Epoch 1/10\n",
      "313/313 [==============================] - 10s 32ms/step - loss: 8.4468 - accuracy: 0.1644\n",
      "Epoch 2/10\n",
      "313/313 [==============================] - 10s 32ms/step - loss: 2.0111 - accuracy: 0.2430\n",
      "Epoch 3/10\n",
      "313/313 [==============================] - 10s 32ms/step - loss: 1.8449 - accuracy: 0.3098\n",
      "Epoch 4/10\n",
      "313/313 [==============================] - 10s 32ms/step - loss: 1.8365 - accuracy: 0.3263\n",
      "Epoch 5/10\n",
      "313/313 [==============================] - 10s 31ms/step - loss: 1.6366 - accuracy: 0.3715\n",
      "Epoch 6/10\n",
      "313/313 [==============================] - 10s 32ms/step - loss: 1.3976 - accuracy: 0.4916\n",
      "Epoch 7/10\n",
      "313/313 [==============================] - 10s 32ms/step - loss: 1.3792 - accuracy: 0.5076\n",
      "Epoch 8/10\n",
      "313/313 [==============================] - 10s 32ms/step - loss: 1.0232 - accuracy: 0.6287\n",
      "Epoch 9/10\n",
      "313/313 [==============================] - 10s 32ms/step - loss: 0.7555 - accuracy: 0.7510\n",
      "Epoch 10/10\n",
      "313/313 [==============================] - 10s 32ms/step - loss: 0.7058 - accuracy: 0.7704\n"
     ]
    }
   ],
   "source": [
    "history_7 = model_7.fit(denoised_train_2,y_train,epochs= epochs,batch_size= batchSize)#training with the denoised images"
   ]
  },
  {
   "cell_type": "code",
   "execution_count": 48,
   "id": "GnrOAfZrXnbI",
   "metadata": {
    "id": "GnrOAfZrXnbI"
   },
   "outputs": [
    {
     "data": {
      "image/png": "[encoded data removed]",
      "text/plain": [
       "<Figure size 1152x432 with 2 Axes>"
      ]
     },
     "metadata": {
      "needs_background": "light"
     },
     "output_type": "display_data"
    }
   ],
   "source": [
    "ShowPlots(history_7)"
   ]
  },
  {
   "cell_type": "code",
   "execution_count": 49,
   "id": "rkMipKs43x9M",
   "metadata": {
    "id": "rkMipKs43x9M"
   },
   "outputs": [],
   "source": [
    "denoised_test_2 = cvxpy_layer_2.predict(noise_x_test_2.reshape(test_num,28,28)) #Denoising the input images-test"
   ]
  },
  {
   "cell_type": "code",
   "execution_count": 50,
   "id": "4xBYkKYf4N65",
   "metadata": {
    "id": "4xBYkKYf4N65"
   },
   "outputs": [],
   "source": [
    "y_pred_7 = model_7.predict(denoised_test_2)#Predicting the denoised test data\n",
    "y_pred_7 = np.argmax(y_pred_7,axis=1)"
   ]
  },
  {
   "cell_type": "code",
   "execution_count": 51,
   "id": "SQ-oOVV6m9GM",
   "metadata": {
    "id": "SQ-oOVV6m9GM"
   },
   "outputs": [
    {
     "data": {
      "text/plain": [
       "array([[147,   0,   0,   0,   1,  22,   1,   0,   3,   1],\n",
       "       [  0, 229,   3,   1,   0,   0,   0,   0,   1,   0],\n",
       "       [  0,   0, 186,  18,   0,   9,   3,   0,   3,   0],\n",
       "       [  0,   0,  17, 180,   0,   4,   0,   1,   5,   0],\n",
       "       [  0,   1,   0,   0, 186,   0,   6,   1,  15,   8],\n",
       "       [  3,   0,  17,   6,   1, 131,   5,   1,  15,   0],\n",
       "       [  3,   1,   0,   0,   1,   9, 164,   0,   0,   0],\n",
       "       [  0,   1,   2,  45,   0,   0,   0, 141,   8,   8],\n",
       "       [  0,   0,  37,  45,   2,  29,   2,   0,  74,   3],\n",
       "       [  0,   0,   0,   7,   3,   3,   0,  10,  30, 141]], dtype=int64)"
      ]
     },
     "execution_count": 51,
     "metadata": {},
     "output_type": "execute_result"
    }
   ],
   "source": [
    "confusion_matrix(y_test,y_pred_7)#confusion matrix"
   ]
  },
  {
   "cell_type": "code",
   "execution_count": 52,
   "id": "5L-fLffj4fJr",
   "metadata": {
    "colab": {
     "base_uri": "https://localhost:8080/"
    },
    "id": "5L-fLffj4fJr",
    "outputId": "19d534df-4f99-4d33-87bb-1cd73a973f13"
   },
   "outputs": [
    {
     "name": "stdout",
     "output_type": "stream",
     "text": [
      "              precision    recall  f1-score   support\n",
      "\n",
      "           0       0.96      0.84      0.90       175\n",
      "           1       0.99      0.98      0.98       234\n",
      "           2       0.71      0.85      0.77       219\n",
      "           3       0.60      0.87      0.71       207\n",
      "           4       0.96      0.86      0.91       217\n",
      "           5       0.63      0.73      0.68       179\n",
      "           6       0.91      0.92      0.91       178\n",
      "           7       0.92      0.69      0.79       205\n",
      "           8       0.48      0.39      0.43       192\n",
      "           9       0.88      0.73      0.79       194\n",
      "\n",
      "    accuracy                           0.79      2000\n",
      "   macro avg       0.80      0.78      0.79      2000\n",
      "weighted avg       0.81      0.79      0.79      2000\n",
      "\n"
     ]
    }
   ],
   "source": [
    "print(classification_report(y_test,y_pred_7))"
   ]
  },
  {
   "cell_type": "code",
   "execution_count": 53,
   "id": "zQvVbrCenT_D",
   "metadata": {
    "id": "zQvVbrCenT_D"
   },
   "outputs": [
    {
     "data": {
      "text/plain": [
       "<matplotlib.image.AxesImage at 0x2635520a130>"
      ]
     },
     "execution_count": 53,
     "metadata": {},
     "output_type": "execute_result"
    },
    {
     "data": {
      "image/png": "[encoded data removed]",
      "text/plain": [
       "<Figure size 432x288 with 1 Axes>"
      ]
     },
     "metadata": {
      "needs_background": "light"
     },
     "output_type": "display_data"
    }
   ],
   "source": [
    "plt.imshow(denoised_train_2[0],cmap='gray')#denoised image"
   ]
  },
  {
   "cell_type": "code",
   "execution_count": 54,
   "id": "WCkBBkivnXka",
   "metadata": {
    "id": "WCkBBkivnXka"
   },
   "outputs": [
    {
     "data": {
      "text/plain": [
       "<matplotlib.image.AxesImage at 0x26354e861c0>"
      ]
     },
     "execution_count": 54,
     "metadata": {},
     "output_type": "execute_result"
    },
    {
     "data": {
      "image/png": "[encoded data removed]",
      "text/plain": [
       "<Figure size 432x288 with 1 Axes>"
      ]
     },
     "metadata": {
      "needs_background": "light"
     },
     "output_type": "display_data"
    }
   ],
   "source": [
    "plt.imshow(noise_x_train_2[0],cmap='gray')#noise image"
   ]
  },
  {
   "cell_type": "code",
   "execution_count": 55,
   "id": "O-OUkwUinabg",
   "metadata": {
    "id": "O-OUkwUinabg"
   },
   "outputs": [
    {
     "data": {
      "text/plain": [
       "12.132948746859348"
      ]
     },
     "execution_count": 55,
     "metadata": {},
     "output_type": "execute_result"
    }
   ],
   "source": [
    "calculate_psnr(x_train[0],denoised_train_2[0])#1"
   ]
  },
  {
   "cell_type": "code",
   "execution_count": 56,
   "id": "yGNV-kGqnfGB",
   "metadata": {
    "id": "yGNV-kGqnfGB"
   },
   "outputs": [
    {
     "data": {
      "text/plain": [
       "7.7724401292329794"
      ]
     },
     "execution_count": 56,
     "metadata": {},
     "output_type": "execute_result"
    }
   ],
   "source": [
    "calculate_psnr(x_train[0],noise_x_train_2[0])"
   ]
  },
  {
   "cell_type": "code",
   "execution_count": 57,
   "id": "FusgBKE-e1YO",
   "metadata": {
    "colab": {
     "base_uri": "https://localhost:8080/",
     "height": 243
    },
    "id": "FusgBKE-e1YO",
    "outputId": "6ebabeb4-e16b-47df-e6da-670706873a1d"
   },
   "outputs": [
    {
     "data": {
      "image/png": "[encoded data removed]",
      "text/plain": [
       "<Figure size 1152x576 with 4 Axes>"
      ]
     },
     "metadata": {
      "needs_background": "light"
     },
     "output_type": "display_data"
    }
   ],
   "source": [
    "fig = plt.figure(figsize=(16,8))\n",
    "\n",
    "plt.subplot(1, 4, 1)\n",
    "plt.imshow(x_train[10].reshape(28,28),cmap='gray')\n",
    "plt.xlabel(\"Original Image\")\n",
    "plt.subplot(1, 4, 2)\n",
    "plt.imshow(noise_x_train_2[10].reshape(28,28),cmap='gray')\n",
    "plt.xlabel(\"Noisy image[Level=0.5]\")\n",
    "plt.subplot(1, 4, 3)\n",
    "plt.imshow(denoised_train_1[10].reshape(28,28),cmap='gray')\n",
    "plt.xlabel(\"Denoised image[Lamda=0.2]\")\n",
    "plt.subplot(1, 4, 4)\n",
    "plt.imshow(denoised_train_2[10].reshape(28,28),cmap='gray')\n",
    "plt.xlabel(\"Denoised image[Lamda=0.5]\")\n",
    "plt.show()"
   ]
  },
  {
   "cell_type": "code",
   "execution_count": null,
   "id": "48d0caa1",
   "metadata": {},
   "outputs": [],
   "source": []
  }
 ],
 "metadata": {
  "accelerator": "GPU",
  "colab": {
   "collapsed_sections": [],
   "name": "Model_5_6_7_noise_0_5.ipynb",
   "provenance": []
  },
  "kernelspec": {
   "display_name": "Python 3",
   "language": "python",
   "name": "python3"
  },
  "language_info": {
   "codemirror_mode": {
    "name": "ipython",
    "version": 3
   },
   "file_extension": ".py",
   "mimetype": "text/x-python",
   "name": "python",
   "nbconvert_exporter": "python",
   "pygments_lexer": "ipython3",
   "version": "3.8.8"
  }
 },
 "nbformat": 4,
 "nbformat_minor": 5
}
