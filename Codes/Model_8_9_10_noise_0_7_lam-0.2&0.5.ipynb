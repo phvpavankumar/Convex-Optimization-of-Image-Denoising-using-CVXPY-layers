{
 "cells": [
  {
   "cell_type": "code",
   "execution_count": 1,
   "id": "89706db4",
   "metadata": {
    "id": "89706db4",
    "outputId": "838f72c3-770c-4e79-f579-b11922395dc9"
   },
   "outputs": [
    {
     "name": "stdout",
     "output_type": "stream",
     "text": [
      "1 Physical GPUs, 1 Logical GPUs\n"
     ]
    }
   ],
   "source": [
    "import tensorflow as tf\n",
    "gpus = tf.config.experimental.list_physical_devices('GPU')\n",
    "if gpus:\n",
    "  # Restrict TensorFlow to only allocate 4GB of memory on the first GPU\n",
    "  try:\n",
    "    tf.config.experimental.set_virtual_device_configuration(\n",
    "        gpus[0],\n",
    "        [tf.config.experimental.VirtualDeviceConfiguration(memory_limit=4096)])\n",
    "    logical_gpus = tf.config.experimental.list_logical_devices('GPU')\n",
    "    print(len(gpus), \"Physical GPUs,\", len(logical_gpus), \"Logical GPUs\")\n",
    "  except RuntimeError as e:\n",
    "    # Virtual devices must be set before GPUs have been initialized\n",
    "    print(e)"
   ]
  },
  {
   "cell_type": "code",
   "execution_count": 2,
   "id": "7daf59ce",
   "metadata": {
    "id": "7daf59ce"
   },
   "outputs": [],
   "source": [
    "#Necessary libraries\n",
    "import tensorflow as tf\n",
    "from tensorflow.keras.datasets import mnist\n",
    "from tensorflow.keras.models import Sequential\n",
    "from tensorflow.keras.layers import Dense, Dropout, Flatten, Activation, Conv2D, MaxPooling2D, BatchNormalization\n",
    "import numpy as np\n",
    "import skimage\n",
    "import random\n",
    "from tensorflow.keras.optimizers import Adam\n",
    "import Denoise_layer # The custom built CVXPY layer\n",
    "import matplotlib.pyplot as plt"
   ]
  },
  {
   "cell_type": "code",
   "execution_count": 3,
   "id": "7b6bc10d",
   "metadata": {
    "id": "7b6bc10d"
   },
   "outputs": [],
   "source": [
    "#Getting the MNIST dataset\n",
    "from tensorflow.keras.datasets import mnist\n",
    "\n",
    "(x_train, y_train), (x_test, y_test) = mnist.load_data()"
   ]
  },
  {
   "cell_type": "code",
   "execution_count": 4,
   "id": "5f671a95",
   "metadata": {
    "id": "5f671a95",
    "outputId": "272c4627-686e-401e-ba94-d5dd551265c2"
   },
   "outputs": [
    {
     "data": {
      "text/plain": [
       "((60000, 28, 28), (60000,), (10000, 28, 28), (10000,))"
      ]
     },
     "execution_count": 4,
     "metadata": {},
     "output_type": "execute_result"
    }
   ],
   "source": [
    "x_train.shape,y_train.shape,x_test.shape,y_test.shape #Shapes of the variables"
   ]
  },
  {
   "cell_type": "code",
   "execution_count": 5,
   "id": "-9E5bS6jipNz",
   "metadata": {
    "id": "-9E5bS6jipNz"
   },
   "outputs": [],
   "source": [
    "#number of samples taken\n",
    "train_num = 10000\n",
    "test_num = 2000"
   ]
  },
  {
   "cell_type": "code",
   "execution_count": 6,
   "id": "7e633761",
   "metadata": {
    "id": "7e633761"
   },
   "outputs": [],
   "source": [
    "#slicing the data\n",
    "x_train = x_train[:train_num]\n",
    "y_train = y_train[:train_num]\n",
    "x_test = x_test[:test_num]\n",
    "y_test = y_test[:test_num]"
   ]
  },
  {
   "cell_type": "code",
   "execution_count": 7,
   "id": "30fcd50f",
   "metadata": {
    "id": "30fcd50f",
    "outputId": "86530ad4-2e9a-46d7-867c-971e19ba2851"
   },
   "outputs": [
    {
     "data": {
      "text/plain": [
       "((10000, 28, 28), (10000,), (2000, 28, 28), (2000,))"
      ]
     },
     "execution_count": 7,
     "metadata": {},
     "output_type": "execute_result"
    }
   ],
   "source": [
    "x_train.shape,y_train.shape,x_test.shape,y_test.shape"
   ]
  },
  {
   "cell_type": "code",
   "execution_count": 8,
   "id": "uuvuBpZXvuY1",
   "metadata": {
    "colab": {
     "base_uri": "https://localhost:8080/"
    },
    "id": "uuvuBpZXvuY1",
    "outputId": "4204e1f4-b4f9-48ac-aede-2a0fa517778d"
   },
   "outputs": [
    {
     "data": {
      "text/plain": [
       "(2000,)"
      ]
     },
     "execution_count": 8,
     "metadata": {},
     "output_type": "execute_result"
    }
   ],
   "source": [
    "y_test.shape"
   ]
  },
  {
   "cell_type": "code",
   "execution_count": 9,
   "id": "eb93f584",
   "metadata": {
    "colab": {
     "base_uri": "https://localhost:8080/"
    },
    "id": "eb93f584",
    "outputId": "4b7b8135-9e85-49ab-ac95-da00812620fc"
   },
   "outputs": [
    {
     "name": "stdout",
     "output_type": "stream",
     "text": [
      "10000\n",
      "2000\n"
     ]
    }
   ],
   "source": [
    "#Finding total number of images in training and test set\n",
    "print(len(x_train))\n",
    "print(len(x_test))"
   ]
  },
  {
   "cell_type": "code",
   "execution_count": 10,
   "id": "d93683f4",
   "metadata": {
    "id": "d93683f4"
   },
   "outputs": [],
   "source": [
    "#normalizing the entire data\n",
    "x_train = x_train/255.0\n",
    "x_test = x_test/255.0"
   ]
  },
  {
   "cell_type": "code",
   "execution_count": 11,
   "id": "3abff42e",
   "metadata": {
    "id": "3abff42e"
   },
   "outputs": [],
   "source": [
    "#Reshaping and Normalizing training and test images\n",
    "x_train = x_train.reshape(train_num, 28, 28, 1)\n",
    "\n",
    "x_test = x_test.reshape(test_num, 28, 28, 1)\n"
   ]
  },
  {
   "cell_type": "code",
   "execution_count": 12,
   "id": "e52692c2",
   "metadata": {
    "id": "e52692c2",
    "outputId": "2d6ef977-2fd9-4f06-b7c3-9c5cdf1da647"
   },
   "outputs": [
    {
     "data": {
      "text/plain": [
       "((10000, 28, 28, 1), (10000,), (2000, 28, 28, 1), (2000,))"
      ]
     },
     "execution_count": 12,
     "metadata": {},
     "output_type": "execute_result"
    }
   ],
   "source": [
    "x_train.shape,y_train.shape,x_test.shape,y_test.shape"
   ]
  },
  {
   "cell_type": "code",
   "execution_count": 13,
   "id": "7LIc-JEW12In",
   "metadata": {
    "id": "7LIc-JEW12In"
   },
   "outputs": [],
   "source": [
    "epochs = 10\n",
    "batchSize = 32\n",
    "opt = Adam(learning_rate=0.001)"
   ]
  },
  {
   "cell_type": "code",
   "execution_count": 14,
   "id": "Sy890U0tUdIo",
   "metadata": {
    "id": "Sy890U0tUdIo"
   },
   "outputs": [],
   "source": [
    "#VGG model Building using Keras\n",
    "def VGG16model():\n",
    "  model = Sequential()\n",
    "\n",
    "  model.add(Conv2D(32, 3, activation='relu', padding='same', input_shape=(28, 28, 1)))\n",
    "  model.add(Conv2D(64, 3, activation='relu', padding='same'))\n",
    "  model.add(MaxPooling2D(2, 2))\n",
    "  model.add(BatchNormalization())\n",
    "\n",
    "  model.add(Conv2D(128, 3, activation='relu', padding='same'))\n",
    "  model.add(Conv2D(128, 3, activation='relu', padding='same'))\n",
    "  model.add(MaxPooling2D(2, 2))\n",
    "  model.add(BatchNormalization())\n",
    "\n",
    "  model.add(Conv2D(256, 3, activation='relu', padding='same'))\n",
    "  model.add(Conv2D(256, 3, activation='relu', padding='same'))\n",
    "  model.add(Conv2D(256, 3, activation='relu', padding='same'))\n",
    "  model.add(MaxPooling2D(2, 2))\n",
    "  model.add(BatchNormalization())\n",
    "\n",
    "  model.add(Conv2D(512, 3, activation='relu', padding='same'))\n",
    "  model.add(Conv2D(512, 3, activation='relu', padding='same'))\n",
    "  model.add(Conv2D(512, 3, activation='relu', padding='same'))\n",
    "  model.add(MaxPooling2D(2, 1)) # default stride is 2\n",
    "  model.add(BatchNormalization())\n",
    "\n",
    "  model.add(Conv2D(512, 3, activation='relu', padding='same'))\n",
    "  model.add(Conv2D(512, 3, activation='relu', padding='same'))\n",
    "  model.add(Conv2D(512, 3, activation='relu', padding='same'))\n",
    "  model.add(MaxPooling2D(2, 1)) # default stride is 2\n",
    "  model.add(BatchNormalization())\n",
    "\n",
    "  model.add(Flatten())\n",
    "  model.add(Dense(4096, activation='relu'))\n",
    "  model.add(Dropout(0.5))\n",
    "  model.add(Dense(4096, activation='relu'))\n",
    "  model.add(Dropout(0.5))\n",
    "\n",
    "  model.add(Dense(10, activation='softmax'))\n",
    "  model.compile(optimizer=opt, loss=\"sparse_categorical_crossentropy\", metrics=['accuracy'])\n",
    "  return model"
   ]
  },
  {
   "cell_type": "code",
   "execution_count": 15,
   "id": "358448a1",
   "metadata": {
    "id": "358448a1"
   },
   "outputs": [],
   "source": [
    "#The instance for the cvxpy layer\n",
    "def CVXPYmodel(inp_shape, lam):\n",
    "    \n",
    "    denoise = Denoise_layer.Denoise(input_shape=inp_shape,lam_val=lam,trainable=False)\n",
    "    model = Sequential()\n",
    "    model.add(denoise)\n",
    "    model.compile()\n",
    "    \n",
    "    return model "
   ]
  },
  {
   "cell_type": "code",
   "execution_count": 16,
   "id": "FF1I2Ff8vmIR",
   "metadata": {
    "id": "FF1I2Ff8vmIR"
   },
   "outputs": [],
   "source": [
    "from sklearn.metrics import classification_report,confusion_matrix"
   ]
  },
  {
   "cell_type": "markdown",
   "id": "3SgFbNKyxIvV",
   "metadata": {
    "id": "3SgFbNKyxIvV"
   },
   "source": [
    "### Model-8\n",
    "+ Noise level= 0.7"
   ]
  },
  {
   "cell_type": "code",
   "execution_count": 17,
   "id": "o6mDJzqbwH9A",
   "metadata": {
    "id": "o6mDJzqbwH9A"
   },
   "outputs": [],
   "source": [
    "import skimage\n",
    "import matplotlib.pyplot as plt"
   ]
  },
  {
   "cell_type": "code",
   "execution_count": 18,
   "id": "jfg7ZeVFxMMB",
   "metadata": {
    "id": "jfg7ZeVFxMMB"
   },
   "outputs": [],
   "source": [
    "#Adding noise to the dataset with the level\n",
    "import skimage\n",
    "noise_lvl_3 = 0.7\n",
    "noise_x_train_3 = np.array([skimage.util.random_noise(x, mode='gaussian', seed=42, clip=True, var = noise_lvl_3)  for x in x_train])\n",
    "noise_x_test_3 = np.array([skimage.util.random_noise(x, mode='gaussian', seed=42, clip=True, var = noise_lvl_3) for x in x_test])"
   ]
  },
  {
   "cell_type": "code",
   "execution_count": 19,
   "id": "OnsNpWcXWtmC",
   "metadata": {
    "id": "OnsNpWcXWtmC"
   },
   "outputs": [],
   "source": [
    "model_8 = VGG16model()"
   ]
  },
  {
   "cell_type": "code",
   "execution_count": 20,
   "id": "9OkO4w6B0l_L",
   "metadata": {
    "colab": {
     "base_uri": "https://localhost:8080/"
    },
    "id": "9OkO4w6B0l_L",
    "outputId": "f495fe3e-e64b-4e95-b0ef-ddba14a976a6"
   },
   "outputs": [
    {
     "name": "stderr",
     "output_type": "stream",
     "text": [
      "C:\\Users\\phvpa\\anaconda3\\envs\\CVXPY\\lib\\site-packages\\tensorflow\\python\\data\\ops\\dataset_ops.py:3503: UserWarning: Even though the tf.config.experimental_run_functions_eagerly option is set, this option does not apply to tf.data functions. tf.data functions are still traced and executed as graphs.\n",
      "  warnings.warn(\n"
     ]
    },
    {
     "name": "stdout",
     "output_type": "stream",
     "text": [
      "Epoch 1/10\n",
      "313/313 [==============================] - 23s 44ms/step - loss: 1.6202 - accuracy: 0.5889\n",
      "Epoch 2/10\n",
      "313/313 [==============================] - 10s 32ms/step - loss: 0.4642 - accuracy: 0.8684\n",
      "Epoch 3/10\n",
      "313/313 [==============================] - 10s 32ms/step - loss: 0.3273 - accuracy: 0.9104\n",
      "Epoch 4/10\n",
      "313/313 [==============================] - 10s 33ms/step - loss: 0.3423 - accuracy: 0.9128\n",
      "Epoch 5/10\n",
      "313/313 [==============================] - 11s 34ms/step - loss: 0.3528 - accuracy: 0.9188\n",
      "Epoch 6/10\n",
      "313/313 [==============================] - 10s 32ms/step - loss: 0.3149 - accuracy: 0.9259\n",
      "Epoch 7/10\n",
      "313/313 [==============================] - 10s 33ms/step - loss: 0.2630 - accuracy: 0.9381\n",
      "Epoch 8/10\n",
      "313/313 [==============================] - 10s 32ms/step - loss: 0.2316 - accuracy: 0.9463\n",
      "Epoch 9/10\n",
      "313/313 [==============================] - 10s 33ms/step - loss: 0.1345 - accuracy: 0.9682\n",
      "Epoch 10/10\n",
      "313/313 [==============================] - 10s 33ms/step - loss: 0.1485 - accuracy: 0.9639\n"
     ]
    }
   ],
   "source": [
    "history_8 = model_8.fit(noise_x_train_3, y_train, epochs = epochs, batch_size = batchSize)#training the model"
   ]
  },
  {
   "cell_type": "code",
   "execution_count": 21,
   "id": "rjn9OYc7jAB0",
   "metadata": {
    "id": "rjn9OYc7jAB0"
   },
   "outputs": [],
   "source": [
    "#Function for showing the accuracy and loss plots\n",
    "def ShowPlots(hist):\n",
    "  plt.figure(figsize=(16,6))\n",
    "  plt.subplot(121)\n",
    "  plt.plot(hist.history[\"accuracy\"],'-ro',label=\"Accuracy\")\n",
    "  #plt.plot(hist.history[\"val_accuracy\"],'-bo',label=\"Validation Accuracy\")\n",
    "  plt.legend()\n",
    "  plt.xlabel(\"Epochs\")\n",
    "  plt.ylabel(\"Accuracy\")\n",
    "  plt.subplot(122)\n",
    "  plt.plot(hist.history[\"loss\"],'-ro',label=\"Loss\")\n",
    "  #plt.plot(hist.history[\"val_loss\"],'-bo',label=\"Validation Loss\")\n",
    "  plt.legend()\n",
    "  plt.xlabel(\"Epochs\")\n",
    "  plt.ylabel(\"Loss\")\n",
    "  return plt.show()"
   ]
  },
  {
   "cell_type": "code",
   "execution_count": 22,
   "id": "XDDbAx3fjAsN",
   "metadata": {
    "id": "XDDbAx3fjAsN"
   },
   "outputs": [
    {
     "data": {
      "image/png": "[encoded data removed]",
      "text/plain": [
       "<Figure size 1152x432 with 2 Axes>"
      ]
     },
     "metadata": {
      "needs_background": "light"
     },
     "output_type": "display_data"
    }
   ],
   "source": [
    "ShowPlots(history_8)"
   ]
  },
  {
   "cell_type": "code",
   "execution_count": 23,
   "id": "9xoXtjaE1DCl",
   "metadata": {
    "id": "9xoXtjaE1DCl",
    "outputId": "898f6cfd-ed98-4029-bcd8-297619ed06ec"
   },
   "outputs": [],
   "source": [
    "y_pred_8 = model_8.predict(noise_x_test_3)\n",
    "y_pred_8 = np.argmax(y_pred_8,axis=1)"
   ]
  },
  {
   "cell_type": "code",
   "execution_count": 24,
   "id": "_ihRqbo_2mF7",
   "metadata": {
    "colab": {
     "base_uri": "https://localhost:8080/"
    },
    "id": "_ihRqbo_2mF7",
    "outputId": "d87835cc-179f-4506-8762-b4e7643c502c"
   },
   "outputs": [
    {
     "data": {
      "text/plain": [
       "array([[156,   2,   9,   0,   2,   1,   1,   3,   1,   0],\n",
       "       [  0, 232,   0,   2,   0,   0,   0,   0,   0,   0],\n",
       "       [  1,  13, 195,   7,   0,   0,   2,   0,   1,   0],\n",
       "       [  0,   0,   0, 204,   0,   3,   0,   0,   0,   0],\n",
       "       [  0,   6,   1,   0, 184,   0,   4,   7,   0,  15],\n",
       "       [  0,   0,   0,   1,   0, 176,   0,   2,   0,   0],\n",
       "       [  3,   0,   0,   0,   0,   9, 165,   0,   1,   0],\n",
       "       [  0,   8,   6,  30,   0,   0,   0, 159,   0,   2],\n",
       "       [  1,   4,   2,   8,   0,   5,   0,   1, 165,   6],\n",
       "       [  0,   6,   0,   3,   1,   3,   0,   1,   2, 178]], dtype=int64)"
      ]
     },
     "execution_count": 24,
     "metadata": {},
     "output_type": "execute_result"
    }
   ],
   "source": [
    "confusion_matrix(y_test,y_pred_8)"
   ]
  },
  {
   "cell_type": "code",
   "execution_count": 25,
   "id": "lhVFc02p2zp7",
   "metadata": {
    "colab": {
     "base_uri": "https://localhost:8080/"
    },
    "id": "lhVFc02p2zp7",
    "outputId": "a9d36fdc-44a9-4d16-d335-ed1e601ef37f"
   },
   "outputs": [
    {
     "name": "stdout",
     "output_type": "stream",
     "text": [
      "              precision    recall  f1-score   support\n",
      "\n",
      "           0       0.97      0.89      0.93       175\n",
      "           1       0.86      0.99      0.92       234\n",
      "           2       0.92      0.89      0.90       219\n",
      "           3       0.80      0.99      0.88       207\n",
      "           4       0.98      0.85      0.91       217\n",
      "           5       0.89      0.98      0.94       179\n",
      "           6       0.96      0.93      0.94       178\n",
      "           7       0.92      0.78      0.84       205\n",
      "           8       0.97      0.86      0.91       192\n",
      "           9       0.89      0.92      0.90       194\n",
      "\n",
      "    accuracy                           0.91      2000\n",
      "   macro avg       0.92      0.91      0.91      2000\n",
      "weighted avg       0.91      0.91      0.91      2000\n",
      "\n"
     ]
    }
   ],
   "source": [
    "print(classification_report(y_test,y_pred_8))#classification report"
   ]
  },
  {
   "cell_type": "markdown",
   "id": "e3828862",
   "metadata": {
    "id": "e3828862"
   },
   "source": [
    "### Model-9\n",
    "+ noise level = 0.7\n",
    "+ lamda value = 0.2"
   ]
  },
  {
   "cell_type": "code",
   "execution_count": 26,
   "id": "2da5d3c3",
   "metadata": {
    "id": "2da5d3c3"
   },
   "outputs": [],
   "source": [
    "cvxpy_layer_1 = CVXPYmodel((28,28),0.2)#making the cvxpy model"
   ]
  },
  {
   "cell_type": "code",
   "execution_count": 27,
   "id": "a4763e65",
   "metadata": {
    "id": "a4763e65",
    "outputId": "2f573cf7-701f-4726-d44d-794eba4bf835"
   },
   "outputs": [
    {
     "name": "stderr",
     "output_type": "stream",
     "text": [
      "C:\\Users\\phvpa\\anaconda3\\envs\\CVXPY\\lib\\site-packages\\tensorflow\\python\\data\\ops\\dataset_ops.py:3503: UserWarning: Even though the tf.config.experimental_run_functions_eagerly option is set, this option does not apply to tf.data functions. tf.data functions are still traced and executed as graphs.\n",
      "  warnings.warn(\n"
     ]
    }
   ],
   "source": [
    "denoised_train_1 = cvxpy_layer_1.predict(noise_x_train_3.reshape(train_num,28,28)) #Denoising the input images"
   ]
  },
  {
   "cell_type": "code",
   "execution_count": 28,
   "id": "1c2500c9",
   "metadata": {
    "id": "1c2500c9",
    "outputId": "6ab84fc7-a77d-4592-f8a8-3a0e51a450c1"
   },
   "outputs": [
    {
     "data": {
      "text/plain": [
       "(10000, 28, 28, 1)"
      ]
     },
     "execution_count": 28,
     "metadata": {},
     "output_type": "execute_result"
    }
   ],
   "source": [
    "denoised_train_1.shape"
   ]
  },
  {
   "cell_type": "code",
   "execution_count": 29,
   "id": "62f1000f",
   "metadata": {
    "id": "62f1000f"
   },
   "outputs": [],
   "source": [
    "model_9 = VGG16model()"
   ]
  },
  {
   "cell_type": "code",
   "execution_count": 31,
   "id": "ce93d774",
   "metadata": {
    "id": "ce93d774",
    "outputId": "1f7782c5-1793-4198-ac54-46e6af582d82"
   },
   "outputs": [
    {
     "name": "stdout",
     "output_type": "stream",
     "text": [
      "Epoch 1/10\n",
      "313/313 [==============================] - 10s 33ms/step - loss: 7.4781 - accuracy: 0.1830\n",
      "Epoch 2/10\n",
      "313/313 [==============================] - 10s 33ms/step - loss: 1.4842 - accuracy: 0.4353\n",
      "Epoch 3/10\n",
      "313/313 [==============================] - 11s 34ms/step - loss: 1.0934 - accuracy: 0.5809\n",
      "Epoch 4/10\n",
      "313/313 [==============================] - 11s 34ms/step - loss: 0.9214 - accuracy: 0.6719\n",
      "Epoch 5/10\n",
      "313/313 [==============================] - 11s 34ms/step - loss: 0.7788 - accuracy: 0.7394\n",
      "Epoch 6/10\n",
      "313/313 [==============================] - 11s 34ms/step - loss: 0.7802 - accuracy: 0.7619\n",
      "Epoch 7/10\n",
      "313/313 [==============================] - 11s 34ms/step - loss: 0.6542 - accuracy: 0.7964\n",
      "Epoch 8/10\n",
      "313/313 [==============================] - 10s 33ms/step - loss: 0.7216 - accuracy: 0.7929\n",
      "Epoch 9/10\n",
      "313/313 [==============================] - 10s 33ms/step - loss: 0.4770 - accuracy: 0.8631\n",
      "Epoch 10/10\n",
      "313/313 [==============================] - 10s 33ms/step - loss: 0.4445 - accuracy: 0.8850\n"
     ]
    }
   ],
   "source": [
    "history_9 = model_9.fit(denoised_train_1,y_train,epochs= epochs,batch_size= batchSize)#training the model with the denoised data"
   ]
  },
  {
   "cell_type": "code",
   "execution_count": 32,
   "id": "yyKXklGBjmEB",
   "metadata": {
    "id": "yyKXklGBjmEB"
   },
   "outputs": [
    {
     "data": {
      "image/png": "[encoded data removed]",
      "text/plain": [
       "<Figure size 1152x432 with 2 Axes>"
      ]
     },
     "metadata": {
      "needs_background": "light"
     },
     "output_type": "display_data"
    }
   ],
   "source": [
    "ShowPlots(history_9)"
   ]
  },
  {
   "cell_type": "code",
   "execution_count": 33,
   "id": "1da64ef5",
   "metadata": {
    "id": "1da64ef5",
    "outputId": "5c0b1db7-0ded-467e-e52d-f1956d59438b"
   },
   "outputs": [],
   "source": [
    "denoised_test_1 = cvxpy_layer_1.predict(noise_x_test_3.reshape(test_num,28,28))#Denoising the input images"
   ]
  },
  {
   "cell_type": "code",
   "execution_count": 34,
   "id": "8ea2e353",
   "metadata": {
    "id": "8ea2e353",
    "outputId": "935fae9b-1807-4dfd-b8ca-03180677ac8b"
   },
   "outputs": [
    {
     "data": {
      "text/plain": [
       "(2000, 28, 28, 1)"
      ]
     },
     "execution_count": 34,
     "metadata": {},
     "output_type": "execute_result"
    }
   ],
   "source": [
    "denoised_test_1.shape"
   ]
  },
  {
   "cell_type": "code",
   "execution_count": 36,
   "id": "4cd6b945",
   "metadata": {
    "id": "4cd6b945"
   },
   "outputs": [],
   "source": [
    "y_pred_9 = model_9.predict(denoised_test_1) #Predicting the denoised test data\n",
    "y_pred_9 = np.argmax(y_pred_9,axis=1)"
   ]
  },
  {
   "cell_type": "code",
   "execution_count": 37,
   "id": "9a41b1b7",
   "metadata": {
    "id": "9a41b1b7",
    "outputId": "e8751ea3-dd56-462d-c049-7bedffcf44a7"
   },
   "outputs": [
    {
     "data": {
      "text/plain": [
       "array([[170,   0,   0,   0,   0,   1,   0,   0,   4,   0],\n",
       "       [  0, 230,   1,   0,   0,   2,   1,   0,   0,   0],\n",
       "       [  1,   0, 195,  18,   0,   4,   0,   0,   1,   0],\n",
       "       [  0,   0,   3, 203,   0,   1,   0,   0,   0,   0],\n",
       "       [  1,   4,   0,   0, 191,   1,   3,   2,   7,   8],\n",
       "       [  2,   0,   2,   8,   0, 165,   0,   0,   2,   0],\n",
       "       [ 18,   1,   0,   0,   0,  13, 142,   0,   4,   0],\n",
       "       [  0,   1,  16,   2,   1,   0,   0, 183,   0,   2],\n",
       "       [  7,   0,   1,  12,   0,   1,   0,   0, 170,   1],\n",
       "       [  0,   0,   0,  12,   5,   1,   0,  11,  28, 137]], dtype=int64)"
      ]
     },
     "execution_count": 37,
     "metadata": {},
     "output_type": "execute_result"
    }
   ],
   "source": [
    "confusion_matrix(y_test,y_pred_9)"
   ]
  },
  {
   "cell_type": "code",
   "execution_count": 39,
   "id": "f1acb708",
   "metadata": {
    "id": "f1acb708",
    "outputId": "f92418b3-1adc-4f9c-f529-275eb4dc1626"
   },
   "outputs": [
    {
     "name": "stdout",
     "output_type": "stream",
     "text": [
      "              precision    recall  f1-score   support\n",
      "\n",
      "           0       0.85      0.97      0.91       175\n",
      "           1       0.97      0.98      0.98       234\n",
      "           2       0.89      0.89      0.89       219\n",
      "           3       0.80      0.98      0.88       207\n",
      "           4       0.97      0.88      0.92       217\n",
      "           5       0.87      0.92      0.90       179\n",
      "           6       0.97      0.80      0.88       178\n",
      "           7       0.93      0.89      0.91       205\n",
      "           8       0.79      0.89      0.83       192\n",
      "           9       0.93      0.71      0.80       194\n",
      "\n",
      "    accuracy                           0.89      2000\n",
      "   macro avg       0.90      0.89      0.89      2000\n",
      "weighted avg       0.90      0.89      0.89      2000\n",
      "\n"
     ]
    }
   ],
   "source": [
    "print(classification_report(y_test,y_pred_9))"
   ]
  },
  {
   "cell_type": "code",
   "execution_count": 40,
   "id": "bb062392",
   "metadata": {
    "id": "bb062392"
   },
   "outputs": [],
   "source": [
    "import math \n",
    "import numpy as np \n",
    "#function for calculating the PSNR value\n",
    "def calculate_psnr(img1, img2): \n",
    "    # img1 and img2 have range [0, 255] \n",
    "    img1 = img1.astype(np.float64) \n",
    "    img2 = img2.astype(np.float64) \n",
    "    mse = np.mean((img1 - img2)**2) \n",
    "    if mse == 0:\n",
    "        return float('inf') \n",
    "    return 20 * math.log10(1.0 / math.sqrt(mse))"
   ]
  },
  {
   "cell_type": "code",
   "execution_count": 41,
   "id": "fb2cac7b",
   "metadata": {
    "id": "fb2cac7b",
    "outputId": "aff45b33-c7d9-415c-9908-4ed700128a7c"
   },
   "outputs": [
    {
     "data": {
      "text/plain": [
       "<matplotlib.image.AxesImage at 0x1f6743690d0>"
      ]
     },
     "execution_count": 41,
     "metadata": {},
     "output_type": "execute_result"
    },
    {
     "data": {
      "image/png": "[encoded data removed]",
      "text/plain": [
       "<Figure size 432x288 with 1 Axes>"
      ]
     },
     "metadata": {
      "needs_background": "light"
     },
     "output_type": "display_data"
    }
   ],
   "source": [
    "plt.imshow(denoised_train_1[0],cmap='gray')"
   ]
  },
  {
   "cell_type": "code",
   "execution_count": 43,
   "id": "9774cf4a",
   "metadata": {
    "id": "9774cf4a",
    "outputId": "ba803b52-1c7e-40c4-efc2-846e0034c19c"
   },
   "outputs": [
    {
     "data": {
      "text/plain": [
       "<matplotlib.image.AxesImage at 0x1f65419c280>"
      ]
     },
     "execution_count": 43,
     "metadata": {},
     "output_type": "execute_result"
    },
    {
     "data": {
      "image/png": "[encoded data removed]",
      "text/plain": [
       "<Figure size 432x288 with 1 Axes>"
      ]
     },
     "metadata": {
      "needs_background": "light"
     },
     "output_type": "display_data"
    }
   ],
   "source": [
    "plt.imshow(noise_x_train_3[0],cmap='gray')"
   ]
  },
  {
   "cell_type": "code",
   "execution_count": 44,
   "id": "36d0618a",
   "metadata": {
    "id": "36d0618a",
    "outputId": "0dae3e5e-493f-44e8-d8fc-06ddf0a98b23"
   },
   "outputs": [
    {
     "data": {
      "text/plain": [
       "11.063712322966099"
      ]
     },
     "execution_count": 44,
     "metadata": {},
     "output_type": "execute_result"
    }
   ],
   "source": [
    "calculate_psnr(x_train[0],denoised_train_1[0])#1"
   ]
  },
  {
   "cell_type": "code",
   "execution_count": 45,
   "id": "d1d44ecc",
   "metadata": {
    "id": "d1d44ecc",
    "outputId": "74ac0589-f376-4d5f-c330-289dd554ce33",
    "scrolled": true
   },
   "outputs": [
    {
     "data": {
      "text/plain": [
       "7.042397811651178"
      ]
     },
     "execution_count": 45,
     "metadata": {},
     "output_type": "execute_result"
    }
   ],
   "source": [
    "calculate_psnr(x_train[0],noise_x_train_3[0]) #1"
   ]
  },
  {
   "cell_type": "code",
   "execution_count": 46,
   "id": "671c9d3d",
   "metadata": {},
   "outputs": [
    {
     "data": {
      "text/plain": [
       "10.639907909737769"
      ]
     },
     "execution_count": 46,
     "metadata": {},
     "output_type": "execute_result"
    }
   ],
   "source": [
    "psnr_denoised_1 = 0\n",
    "for i,j in zip(x_train,denoised_train_1):\n",
    "    psnr_denoised_1 = calculate_psnr(i,j) + psnr_denoised_1\n",
    "psnr_denoised_1 = psnr_denoised_1/x_train.shape[0]\n",
    "psnr_denoised_1"
   ]
  },
  {
   "cell_type": "code",
   "execution_count": 47,
   "id": "855ad75c",
   "metadata": {},
   "outputs": [
    {
     "data": {
      "text/plain": [
       "6.863497014718605"
      ]
     },
     "execution_count": 47,
     "metadata": {},
     "output_type": "execute_result"
    }
   ],
   "source": [
    "psnr_noised_1 = 0\n",
    "for i,j in zip(x_train,noise_x_train_3):\n",
    "    psnr_noised_1 = calculate_psnr(i,j) + psnr_noised_1\n",
    "psnr_noised_1 = psnr_noised_1/x_train.shape[0]\n",
    "psnr_noised_1"
   ]
  },
  {
   "cell_type": "markdown",
   "id": "a3d40c66",
   "metadata": {
    "id": "a3d40c66"
   },
   "source": [
    "### Model-10\n",
    "+ noise level = 0.7\n",
    "+ lambda value = 0.5"
   ]
  },
  {
   "cell_type": "code",
   "execution_count": 48,
   "id": "c0affab1",
   "metadata": {
    "id": "c0affab1"
   },
   "outputs": [],
   "source": [
    "cvxpy_layer_2 = CVXPYmodel((28,28),0.5) #instance for cvxpy model"
   ]
  },
  {
   "cell_type": "code",
   "execution_count": 49,
   "id": "9f65284d",
   "metadata": {
    "id": "9f65284d"
   },
   "outputs": [
    {
     "name": "stderr",
     "output_type": "stream",
     "text": [
      "C:\\Users\\phvpa\\anaconda3\\envs\\CVXPY\\lib\\site-packages\\tensorflow\\python\\data\\ops\\dataset_ops.py:3503: UserWarning: Even though the tf.config.experimental_run_functions_eagerly option is set, this option does not apply to tf.data functions. tf.data functions are still traced and executed as graphs.\n",
      "  warnings.warn(\n"
     ]
    }
   ],
   "source": [
    "denoised_train_2 = cvxpy_layer_2.predict(noise_x_train_3.reshape(train_num,28,28)) #Denoising the input images"
   ]
  },
  {
   "cell_type": "code",
   "execution_count": 50,
   "id": "b8adf3b4",
   "metadata": {
    "id": "b8adf3b4"
   },
   "outputs": [],
   "source": [
    "model_10 = VGG16model()"
   ]
  },
  {
   "cell_type": "code",
   "execution_count": 51,
   "id": "s292QDSV3Kt8",
   "metadata": {
    "id": "s292QDSV3Kt8"
   },
   "outputs": [
    {
     "name": "stdout",
     "output_type": "stream",
     "text": [
      "Epoch 1/10\n",
      "313/313 [==============================] - 11s 34ms/step - loss: 8.4097 - accuracy: 0.1088\n",
      "Epoch 2/10\n",
      "313/313 [==============================] - 11s 35ms/step - loss: 2.3037 - accuracy: 0.1136\n",
      "Epoch 3/10\n",
      "313/313 [==============================] - 11s 35ms/step - loss: 2.3023 - accuracy: 0.1112\n",
      "Epoch 4/10\n",
      "313/313 [==============================] - 10s 33ms/step - loss: 2.2743 - accuracy: 0.1389\n",
      "Epoch 5/10\n",
      "313/313 [==============================] - 10s 33ms/step - loss: 1.9292 - accuracy: 0.2388\n",
      "Epoch 6/10\n",
      "313/313 [==============================] - 10s 33ms/step - loss: 1.6952 - accuracy: 0.3297\n",
      "Epoch 7/10\n",
      "313/313 [==============================] - 10s 33ms/step - loss: 1.5131 - accuracy: 0.4191\n",
      "Epoch 8/10\n",
      "313/313 [==============================] - 11s 34ms/step - loss: 1.2400 - accuracy: 0.5543\n",
      "Epoch 9/10\n",
      "313/313 [==============================] - 11s 34ms/step - loss: 0.9770 - accuracy: 0.6549\n",
      "Epoch 10/10\n",
      "313/313 [==============================] - 11s 34ms/step - loss: 0.7712 - accuracy: 0.7559\n"
     ]
    }
   ],
   "source": [
    "history_10 = model_10.fit(denoised_train_2,y_train,epochs= epochs,batch_size= batchSize)#training with the denoised images"
   ]
  },
  {
   "cell_type": "code",
   "execution_count": 52,
   "id": "GnrOAfZrXnbI",
   "metadata": {
    "id": "GnrOAfZrXnbI"
   },
   "outputs": [
    {
     "data": {
      "image/png": "[encoded data removed]",
      "text/plain": [
       "<Figure size 1152x432 with 2 Axes>"
      ]
     },
     "metadata": {
      "needs_background": "light"
     },
     "output_type": "display_data"
    }
   ],
   "source": [
    "ShowPlots(history_10)"
   ]
  },
  {
   "cell_type": "code",
   "execution_count": 54,
   "id": "rkMipKs43x9M",
   "metadata": {
    "id": "rkMipKs43x9M"
   },
   "outputs": [],
   "source": [
    "denoised_test_2 = cvxpy_layer_2.predict(noise_x_test_3.reshape(test_num,28,28)) #Denoising the input images-test"
   ]
  },
  {
   "cell_type": "code",
   "execution_count": 55,
   "id": "4xBYkKYf4N65",
   "metadata": {
    "id": "4xBYkKYf4N65"
   },
   "outputs": [],
   "source": [
    "y_pred_10 = model_10.predict(denoised_test_2)#Predicting the denoised test data\n",
    "y_pred_10 = np.argmax(y_pred_10,axis=1)"
   ]
  },
  {
   "cell_type": "code",
   "execution_count": 56,
   "id": "SQ-oOVV6m9GM",
   "metadata": {
    "id": "SQ-oOVV6m9GM"
   },
   "outputs": [
    {
     "data": {
      "text/plain": [
       "array([[133,   0,   3,  14,   0,   9,   0,   1,  15,   0],\n",
       "       [  0, 231,   0,   0,   0,   1,   0,   0,   2,   0],\n",
       "       [ 23,  26, 110,   4,   0,   5,   2,   2,  47,   0],\n",
       "       [  0,   3,   0,  65,   0, 121,   0,   6,  12,   0],\n",
       "       [  0,   6,   8,   0, 130,   0,   9,  23,  30,  11],\n",
       "       [  1,   7,   0,   2,   0, 130,   0,   5,  31,   3],\n",
       "       [  0,  13,  13,   0,   0,   2, 125,   1,  24,   0],\n",
       "       [  0,  14,   0,   0,   0,   3,   0, 181,   4,   3],\n",
       "       [  1,  11,   1,   1,   0, 105,   1,   2,  67,   3],\n",
       "       [  2,   1,   0,   0,   2,  25,   0,  73,   9,  82]], dtype=int64)"
      ]
     },
     "execution_count": 56,
     "metadata": {},
     "output_type": "execute_result"
    }
   ],
   "source": [
    "confusion_matrix(y_test,y_pred_10)#confusion matrix"
   ]
  },
  {
   "cell_type": "code",
   "execution_count": 57,
   "id": "5L-fLffj4fJr",
   "metadata": {
    "colab": {
     "base_uri": "https://localhost:8080/"
    },
    "id": "5L-fLffj4fJr",
    "outputId": "19d534df-4f99-4d33-87bb-1cd73a973f13"
   },
   "outputs": [
    {
     "name": "stdout",
     "output_type": "stream",
     "text": [
      "              precision    recall  f1-score   support\n",
      "\n",
      "           0       0.83      0.76      0.79       175\n",
      "           1       0.74      0.99      0.85       234\n",
      "           2       0.81      0.50      0.62       219\n",
      "           3       0.76      0.31      0.44       207\n",
      "           4       0.98      0.60      0.74       217\n",
      "           5       0.32      0.73      0.45       179\n",
      "           6       0.91      0.70      0.79       178\n",
      "           7       0.62      0.88      0.73       205\n",
      "           8       0.28      0.35      0.31       192\n",
      "           9       0.80      0.42      0.55       194\n",
      "\n",
      "    accuracy                           0.63      2000\n",
      "   macro avg       0.71      0.62      0.63      2000\n",
      "weighted avg       0.71      0.63      0.63      2000\n",
      "\n"
     ]
    }
   ],
   "source": [
    "print(classification_report(y_test,y_pred_10))"
   ]
  },
  {
   "cell_type": "code",
   "execution_count": 58,
   "id": "zQvVbrCenT_D",
   "metadata": {
    "id": "zQvVbrCenT_D"
   },
   "outputs": [
    {
     "data": {
      "text/plain": [
       "<matplotlib.image.AxesImage at 0x1f677447040>"
      ]
     },
     "execution_count": 58,
     "metadata": {},
     "output_type": "execute_result"
    },
    {
     "data": {
      "image/png": "[encoded data removed]",
      "text/plain": [
       "<Figure size 432x288 with 1 Axes>"
      ]
     },
     "metadata": {
      "needs_background": "light"
     },
     "output_type": "display_data"
    }
   ],
   "source": [
    "plt.imshow(denoised_train_2[0],cmap='gray')#denoised image"
   ]
  },
  {
   "cell_type": "code",
   "execution_count": 60,
   "id": "WCkBBkivnXka",
   "metadata": {
    "id": "WCkBBkivnXka"
   },
   "outputs": [
    {
     "data": {
      "text/plain": [
       "<matplotlib.image.AxesImage at 0x1f532143d00>"
      ]
     },
     "execution_count": 60,
     "metadata": {},
     "output_type": "execute_result"
    },
    {
     "data": {
      "image/png": "[encoded data removed]",
      "text/plain": [
       "<Figure size 432x288 with 1 Axes>"
      ]
     },
     "metadata": {
      "needs_background": "light"
     },
     "output_type": "display_data"
    }
   ],
   "source": [
    "plt.imshow(noise_x_train_3[0],cmap='gray')#noise image"
   ]
  },
  {
   "cell_type": "code",
   "execution_count": 61,
   "id": "O-OUkwUinabg",
   "metadata": {
    "id": "O-OUkwUinabg"
   },
   "outputs": [
    {
     "data": {
      "text/plain": [
       "11.645050707462339"
      ]
     },
     "execution_count": 61,
     "metadata": {},
     "output_type": "execute_result"
    }
   ],
   "source": [
    "calculate_psnr(x_train[0],denoised_train_2[0])#1"
   ]
  },
  {
   "cell_type": "code",
   "execution_count": 62,
   "id": "yGNV-kGqnfGB",
   "metadata": {
    "id": "yGNV-kGqnfGB"
   },
   "outputs": [
    {
     "data": {
      "text/plain": [
       "7.042397811651178"
      ]
     },
     "execution_count": 62,
     "metadata": {},
     "output_type": "execute_result"
    }
   ],
   "source": [
    "calculate_psnr(x_train[0],noise_x_train_3[0])"
   ]
  },
  {
   "cell_type": "code",
   "execution_count": 68,
   "id": "a7d31764",
   "metadata": {},
   "outputs": [
    {
     "data": {
      "text/plain": [
       "11.275696184066161"
      ]
     },
     "execution_count": 68,
     "metadata": {},
     "output_type": "execute_result"
    }
   ],
   "source": [
    "psnr_denoised_1 = 0\n",
    "for i,j in zip(x_train,denoised_train_2):\n",
    "    psnr_denoised_1 = calculate_psnr(i,j) + psnr_denoised_1\n",
    "psnr_denoised_1 = psnr_denoised_1/x_train.shape[0]\n",
    "psnr_denoised_1"
   ]
  },
  {
   "cell_type": "code",
   "execution_count": 64,
   "id": "7f90e140",
   "metadata": {},
   "outputs": [
    {
     "data": {
      "text/plain": [
       "6.863497014718605"
      ]
     },
     "execution_count": 64,
     "metadata": {},
     "output_type": "execute_result"
    }
   ],
   "source": [
    "psnr_noised_1 = 0\n",
    "for i,j in zip(x_train,noise_x_train_3):\n",
    "    psnr_noised_1 = calculate_psnr(i,j) + psnr_noised_1\n",
    "psnr_noised_1 = psnr_noised_1/x_train.shape[0]\n",
    "psnr_noised_1"
   ]
  },
  {
   "cell_type": "code",
   "execution_count": 67,
   "id": "FusgBKE-e1YO",
   "metadata": {
    "colab": {
     "base_uri": "https://localhost:8080/",
     "height": 243
    },
    "id": "FusgBKE-e1YO",
    "outputId": "6ebabeb4-e16b-47df-e6da-670706873a1d"
   },
   "outputs": [
    {
     "data": {
      "image/png": "[encoded data removed]",
      "text/plain": [
       "<Figure size 1152x576 with 4 Axes>"
      ]
     },
     "metadata": {
      "needs_background": "light"
     },
     "output_type": "display_data"
    }
   ],
   "source": [
    "fig = plt.figure(figsize=(16,8))\n",
    "\n",
    "plt.subplot(1, 4, 1)\n",
    "plt.imshow(x_train[10].reshape(28,28),cmap='gray')\n",
    "plt.xlabel(\"Original Image\")\n",
    "plt.subplot(1, 4, 2)\n",
    "plt.imshow(noise_x_train_3[10].reshape(28,28),cmap='gray')\n",
    "plt.xlabel(\"Noisy image[Level=0.7]\")\n",
    "plt.subplot(1, 4, 3)\n",
    "plt.imshow(denoised_train_1[10].reshape(28,28),cmap='gray')\n",
    "plt.xlabel(\"Denoised image[Lamda=0.2]\")\n",
    "plt.subplot(1, 4, 4)\n",
    "plt.imshow(denoised_train_2[10].reshape(28,28),cmap='gray')\n",
    "plt.xlabel(\"Denoised image[Lamda=0.5]\")\n",
    "plt.show()"
   ]
  },
  {
   "cell_type": "code",
   "execution_count": null,
   "id": "38e2234a",
   "metadata": {},
   "outputs": [],
   "source": []
  }
 ],
 "metadata": {
  "accelerator": "GPU",
  "colab": {
   "collapsed_sections": [],
   "name": "Model_8_9_10_noise_0_7.ipynb",
   "provenance": []
  },
  "kernelspec": {
   "display_name": "Python 3",
   "language": "python",
   "name": "python3"
  },
  "language_info": {
   "codemirror_mode": {
    "name": "ipython",
    "version": 3
   },
   "file_extension": ".py",
   "mimetype": "text/x-python",
   "name": "python",
   "nbconvert_exporter": "python",
   "pygments_lexer": "ipython3",
   "version": "3.8.8"
  }
 },
 "nbformat": 4,
 "nbformat_minor": 5
}
