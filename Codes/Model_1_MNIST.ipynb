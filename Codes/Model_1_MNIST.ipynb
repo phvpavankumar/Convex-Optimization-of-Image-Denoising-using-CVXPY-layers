{
 "cells": [
  {
   "cell_type": "code",
   "execution_count": 1,
   "id": "89706db4",
   "metadata": {
    "id": "89706db4",
    "outputId": "9997251e-8eb9-466d-d98c-ff2acf569188"
   },
   "outputs": [
    {
     "name": "stdout",
     "output_type": "stream",
     "text": [
      "1 Physical GPUs, 1 Logical GPUs\n"
     ]
    }
   ],
   "source": [
    "import tensorflow as tf\n",
    "gpus = tf.config.experimental.list_physical_devices('GPU')\n",
    "if gpus:\n",
    "  # Restrict TensorFlow to only allocate 4GB of memory on the first GPU\n",
    "  try:\n",
    "    tf.config.experimental.set_virtual_device_configuration(\n",
    "        gpus[0],\n",
    "        [tf.config.experimental.VirtualDeviceConfiguration(memory_limit=4096)])\n",
    "    logical_gpus = tf.config.experimental.list_logical_devices('GPU')\n",
    "    print(len(gpus), \"Physical GPUs,\", len(logical_gpus), \"Logical GPUs\")\n",
    "  except RuntimeError as e:\n",
    "    # Virtual devices must be set before GPUs have been initialized\n",
    "    print(e)"
   ]
  },
  {
   "cell_type": "code",
   "execution_count": 2,
   "id": "7daf59ce",
   "metadata": {
    "id": "7daf59ce"
   },
   "outputs": [],
   "source": [
    "import tensorflow as tf\n",
    "from tensorflow.keras.datasets import mnist\n",
    "from tensorflow.keras.models import Sequential\n",
    "from tensorflow.keras.layers import Dense, Dropout, Flatten, Activation, Conv2D, MaxPooling2D, BatchNormalization\n",
    "import numpy as np\n",
    "import skimage\n",
    "import random\n",
    "from tensorflow.keras.optimizers import Adam\n",
    "#import Denoise_layer"
   ]
  },
  {
   "cell_type": "code",
   "execution_count": 3,
   "id": "458f2d16",
   "metadata": {
    "id": "458f2d16"
   },
   "outputs": [],
   "source": [
    "#denoise  = Denoise_layer.Denoise(input_shape=(28,28),lam_val=0.2,trainable=False)"
   ]
  },
  {
   "cell_type": "code",
   "execution_count": 4,
   "id": "7b6bc10d",
   "metadata": {
    "id": "7b6bc10d"
   },
   "outputs": [],
   "source": [
    "#Getting the dataset\n",
    "from tensorflow.keras.datasets import mnist\n",
    "\n",
    "(x_train, y_train), (x_test, y_test) = mnist.load_data()"
   ]
  },
  {
   "cell_type": "code",
   "execution_count": 5,
   "id": "5f671a95",
   "metadata": {
    "id": "5f671a95",
    "outputId": "ab1d0562-64cc-480d-b06a-4dc69b7538cd"
   },
   "outputs": [
    {
     "data": {
      "text/plain": [
       "((60000, 28, 28), (60000,), (10000, 28, 28), (10000,))"
      ]
     },
     "execution_count": 5,
     "metadata": {},
     "output_type": "execute_result"
    }
   ],
   "source": [
    "x_train.shape,y_train.shape,x_test.shape,y_test.shape"
   ]
  },
  {
   "cell_type": "code",
   "execution_count": 6,
   "id": "TLAX083NiaLv",
   "metadata": {
    "id": "TLAX083NiaLv"
   },
   "outputs": [],
   "source": [
    "train_num = 10000\n",
    "test_num = 2000"
   ]
  },
  {
   "cell_type": "code",
   "execution_count": 7,
   "id": "7e633761",
   "metadata": {
    "id": "7e633761"
   },
   "outputs": [],
   "source": [
    "x_train = x_train[:train_num]\n",
    "y_train = y_train[:train_num]\n",
    "x_test = x_test[:test_num]\n",
    "y_test = y_test[:test_num]"
   ]
  },
  {
   "cell_type": "code",
   "execution_count": 8,
   "id": "30fcd50f",
   "metadata": {
    "id": "30fcd50f",
    "outputId": "9424e108-cdef-4b53-f3cf-0512551d8895"
   },
   "outputs": [
    {
     "data": {
      "text/plain": [
       "((10000, 28, 28), (10000,), (2000, 28, 28), (2000,))"
      ]
     },
     "execution_count": 8,
     "metadata": {},
     "output_type": "execute_result"
    }
   ],
   "source": [
    "x_train.shape,y_train.shape,x_test.shape,y_test.shape"
   ]
  },
  {
   "cell_type": "code",
   "execution_count": 9,
   "id": "uuvuBpZXvuY1",
   "metadata": {
    "colab": {
     "base_uri": "https://localhost:8080/"
    },
    "id": "uuvuBpZXvuY1",
    "outputId": "4204e1f4-b4f9-48ac-aede-2a0fa517778d"
   },
   "outputs": [
    {
     "data": {
      "text/plain": [
       "(2000,)"
      ]
     },
     "execution_count": 9,
     "metadata": {},
     "output_type": "execute_result"
    }
   ],
   "source": [
    "y_test.shape"
   ]
  },
  {
   "cell_type": "code",
   "execution_count": 10,
   "id": "eb93f584",
   "metadata": {
    "colab": {
     "base_uri": "https://localhost:8080/"
    },
    "id": "eb93f584",
    "outputId": "4b7b8135-9e85-49ab-ac95-da00812620fc"
   },
   "outputs": [
    {
     "name": "stdout",
     "output_type": "stream",
     "text": [
      "10000\n",
      "2000\n"
     ]
    }
   ],
   "source": [
    "#Finding total number of images in training and test set\n",
    "print(len(x_train))\n",
    "print(len(x_test))"
   ]
  },
  {
   "cell_type": "code",
   "execution_count": 11,
   "id": "d93683f4",
   "metadata": {
    "id": "d93683f4"
   },
   "outputs": [],
   "source": [
    "x_train = x_train/255.0\n",
    "x_test = x_test/255.0"
   ]
  },
  {
   "cell_type": "code",
   "execution_count": 12,
   "id": "3abff42e",
   "metadata": {
    "id": "3abff42e"
   },
   "outputs": [],
   "source": [
    "#Reshaping and Normalizing training and test images\n",
    "x_train = x_train.reshape(train_num, 28, 28, 1)\n",
    "\n",
    "x_test = x_test.reshape(test_num, 28, 28, 1)\n"
   ]
  },
  {
   "cell_type": "code",
   "execution_count": 13,
   "id": "e52692c2",
   "metadata": {
    "id": "e52692c2",
    "outputId": "c06d61b9-7a53-4df4-fdf1-2507b915e105"
   },
   "outputs": [
    {
     "data": {
      "text/plain": [
       "((10000, 28, 28, 1), (10000,), (2000, 28, 28, 1), (2000,))"
      ]
     },
     "execution_count": 13,
     "metadata": {},
     "output_type": "execute_result"
    }
   ],
   "source": [
    "x_train.shape,y_train.shape,x_test.shape,y_test.shape"
   ]
  },
  {
   "cell_type": "code",
   "execution_count": 14,
   "id": "7LIc-JEW12In",
   "metadata": {
    "id": "7LIc-JEW12In"
   },
   "outputs": [],
   "source": [
    "epochs = 10\n",
    "batchSize = 32\n",
    "opt = Adam(learning_rate=0.001)"
   ]
  },
  {
   "cell_type": "code",
   "execution_count": 15,
   "id": "Sy890U0tUdIo",
   "metadata": {
    "id": "Sy890U0tUdIo"
   },
   "outputs": [],
   "source": [
    "def VGG16model():\n",
    "  model = Sequential()\n",
    "\n",
    "  model.add(Conv2D(32, 3, activation='relu', padding='same', input_shape=(28, 28, 1)))\n",
    "  model.add(Conv2D(64, 3, activation='relu', padding='same'))\n",
    "  model.add(MaxPooling2D(2, 2))\n",
    "  model.add(BatchNormalization())\n",
    "\n",
    "  model.add(Conv2D(128, 3, activation='relu', padding='same'))\n",
    "  model.add(Conv2D(128, 3, activation='relu', padding='same'))\n",
    "  model.add(MaxPooling2D(2, 2))\n",
    "  model.add(BatchNormalization())\n",
    "\n",
    "  model.add(Conv2D(256, 3, activation='relu', padding='same'))\n",
    "  model.add(Conv2D(256, 3, activation='relu', padding='same'))\n",
    "  model.add(Conv2D(256, 3, activation='relu', padding='same'))\n",
    "  model.add(MaxPooling2D(2, 2))\n",
    "  model.add(BatchNormalization())\n",
    "\n",
    "  model.add(Conv2D(512, 3, activation='relu', padding='same'))\n",
    "  model.add(Conv2D(512, 3, activation='relu', padding='same'))\n",
    "  model.add(Conv2D(512, 3, activation='relu', padding='same'))\n",
    "  model.add(MaxPooling2D(2, 1)) # default stride is 2\n",
    "  model.add(BatchNormalization())\n",
    "\n",
    "  model.add(Conv2D(512, 3, activation='relu', padding='same'))\n",
    "  model.add(Conv2D(512, 3, activation='relu', padding='same'))\n",
    "  model.add(Conv2D(512, 3, activation='relu', padding='same'))\n",
    "  model.add(MaxPooling2D(2, 1)) # default stride is 2\n",
    "  model.add(BatchNormalization())\n",
    "\n",
    "  model.add(Flatten())\n",
    "  model.add(Dense(4096, activation='relu'))\n",
    "  model.add(Dropout(0.5))\n",
    "  model.add(Dense(4096, activation='relu'))\n",
    "  model.add(Dropout(0.5))\n",
    "\n",
    "  model.add(Dense(10, activation='softmax'))\n",
    "  model.compile(optimizer=opt, loss=\"sparse_categorical_crossentropy\", metrics=['accuracy'])\n",
    "  return model"
   ]
  },
  {
   "cell_type": "code",
   "execution_count": 16,
   "id": "AHO3ZUfZVteO",
   "metadata": {
    "id": "AHO3ZUfZVteO"
   },
   "outputs": [],
   "source": [
    "model_1 = VGG16model()"
   ]
  },
  {
   "cell_type": "code",
   "execution_count": 17,
   "id": "cc6107bf",
   "metadata": {
    "colab": {
     "base_uri": "https://localhost:8080/"
    },
    "id": "cc6107bf",
    "outputId": "b2ac9db6-0fd1-4a21-d6e8-394a5dc76096"
   },
   "outputs": [
    {
     "name": "stdout",
     "output_type": "stream",
     "text": [
      "Model: \"sequential\"\n",
      "_________________________________________________________________\n",
      "Layer (type)                 Output Shape              Param #   \n",
      "=================================================================\n",
      "conv2d (Conv2D)              (None, 28, 28, 32)        320       \n",
      "_________________________________________________________________\n",
      "conv2d_1 (Conv2D)            (None, 28, 28, 64)        18496     \n",
      "_________________________________________________________________\n",
      "max_pooling2d (MaxPooling2D) (None, 14, 14, 64)        0         \n",
      "_________________________________________________________________\n",
      "batch_normalization (BatchNo (None, 14, 14, 64)        256       \n",
      "_________________________________________________________________\n",
      "conv2d_2 (Conv2D)            (None, 14, 14, 128)       73856     \n",
      "_________________________________________________________________\n",
      "conv2d_3 (Conv2D)            (None, 14, 14, 128)       147584    \n",
      "_________________________________________________________________\n",
      "max_pooling2d_1 (MaxPooling2 (None, 7, 7, 128)         0         \n",
      "_________________________________________________________________\n",
      "batch_normalization_1 (Batch (None, 7, 7, 128)         512       \n",
      "_________________________________________________________________\n",
      "conv2d_4 (Conv2D)            (None, 7, 7, 256)         295168    \n",
      "_________________________________________________________________\n",
      "conv2d_5 (Conv2D)            (None, 7, 7, 256)         590080    \n",
      "_________________________________________________________________\n",
      "conv2d_6 (Conv2D)            (None, 7, 7, 256)         590080    \n",
      "_________________________________________________________________\n",
      "max_pooling2d_2 (MaxPooling2 (None, 3, 3, 256)         0         \n",
      "_________________________________________________________________\n",
      "batch_normalization_2 (Batch (None, 3, 3, 256)         1024      \n",
      "_________________________________________________________________\n",
      "conv2d_7 (Conv2D)            (None, 3, 3, 512)         1180160   \n",
      "_________________________________________________________________\n",
      "conv2d_8 (Conv2D)            (None, 3, 3, 512)         2359808   \n",
      "_________________________________________________________________\n",
      "conv2d_9 (Conv2D)            (None, 3, 3, 512)         2359808   \n",
      "_________________________________________________________________\n",
      "max_pooling2d_3 (MaxPooling2 (None, 2, 2, 512)         0         \n",
      "_________________________________________________________________\n",
      "batch_normalization_3 (Batch (None, 2, 2, 512)         2048      \n",
      "_________________________________________________________________\n",
      "conv2d_10 (Conv2D)           (None, 2, 2, 512)         2359808   \n",
      "_________________________________________________________________\n",
      "conv2d_11 (Conv2D)           (None, 2, 2, 512)         2359808   \n",
      "_________________________________________________________________\n",
      "conv2d_12 (Conv2D)           (None, 2, 2, 512)         2359808   \n",
      "_________________________________________________________________\n",
      "max_pooling2d_4 (MaxPooling2 (None, 1, 1, 512)         0         \n",
      "_________________________________________________________________\n",
      "batch_normalization_4 (Batch (None, 1, 1, 512)         2048      \n",
      "_________________________________________________________________\n",
      "flatten (Flatten)            (None, 512)               0         \n",
      "_________________________________________________________________\n",
      "dense (Dense)                (None, 4096)              2101248   \n",
      "_________________________________________________________________\n",
      "dropout (Dropout)            (None, 4096)              0         \n",
      "_________________________________________________________________\n",
      "dense_1 (Dense)              (None, 4096)              16781312  \n",
      "_________________________________________________________________\n",
      "dropout_1 (Dropout)          (None, 4096)              0         \n",
      "_________________________________________________________________\n",
      "dense_2 (Dense)              (None, 10)                40970     \n",
      "=================================================================\n",
      "Total params: 33,624,202\n",
      "Trainable params: 33,621,258\n",
      "Non-trainable params: 2,944\n",
      "_________________________________________________________________\n"
     ]
    }
   ],
   "source": [
    "model_1.summary()"
   ]
  },
  {
   "cell_type": "code",
   "execution_count": 18,
   "id": "83bfa546",
   "metadata": {
    "colab": {
     "base_uri": "https://localhost:8080/"
    },
    "id": "83bfa546",
    "outputId": "a1670740-fb20-4506-f277-405901e638d3"
   },
   "outputs": [
    {
     "name": "stdout",
     "output_type": "stream",
     "text": [
      "Epoch 1/10\n",
      "313/313 [==============================] - 21s 37ms/step - loss: 1.6966 - accuracy: 0.5613\n",
      "Epoch 2/10\n",
      "313/313 [==============================] - 7s 23ms/step - loss: 0.3182 - accuracy: 0.9137\n",
      "Epoch 3/10\n",
      "313/313 [==============================] - 7s 23ms/step - loss: 0.3096 - accuracy: 0.9213\n",
      "Epoch 4/10\n",
      "313/313 [==============================] - 7s 24ms/step - loss: 0.2814 - accuracy: 0.9322\n",
      "Epoch 5/10\n",
      "313/313 [==============================] - 7s 24ms/step - loss: 0.2845 - accuracy: 0.9381\n",
      "Epoch 6/10\n",
      "313/313 [==============================] - 7s 24ms/step - loss: 0.3179 - accuracy: 0.9350\n",
      "Epoch 7/10\n",
      "313/313 [==============================] - 7s 24ms/step - loss: 0.1057 - accuracy: 0.9758\n",
      "Epoch 8/10\n",
      "313/313 [==============================] - 7s 24ms/step - loss: 0.1665 - accuracy: 0.9655\n",
      "Epoch 9/10\n",
      "313/313 [==============================] - 7s 24ms/step - loss: 0.1424 - accuracy: 0.9654\n",
      "Epoch 10/10\n",
      "313/313 [==============================] - 7s 24ms/step - loss: 0.0983 - accuracy: 0.9747\n"
     ]
    }
   ],
   "source": [
    "history_1 = model_1.fit(x_train, y_train, batch_size = batchSize, epochs=epochs)"
   ]
  },
  {
   "cell_type": "code",
   "execution_count": 19,
   "id": "16eef029",
   "metadata": {},
   "outputs": [],
   "source": [
    "import matplotlib.pyplot as plt"
   ]
  },
  {
   "cell_type": "code",
   "execution_count": 20,
   "id": "UuxSrhCVhnyA",
   "metadata": {
    "id": "UuxSrhCVhnyA"
   },
   "outputs": [],
   "source": [
    "def ShowPlots(hist):\n",
    "  plt.figure(figsize=(16,6))\n",
    "  plt.subplot(121)\n",
    "  plt.plot(hist.history[\"accuracy\"],'-ro',label=\"Accuracy\")\n",
    "  #plt.plot(hist.history[\"val_accuracy\"],'-bo',label=\"Validation Accuracy\")\n",
    "  plt.legend()\n",
    "  plt.xlabel(\"Epochs\")\n",
    "  plt.ylabel(\"Accuracy\")\n",
    "  plt.subplot(122)\n",
    "  plt.plot(hist.history[\"loss\"],'-ro',label=\"Loss\")\n",
    "  #plt.plot(hist.history[\"val_loss\"],'-bo',label=\"Validation Loss\")\n",
    "  plt.legend()\n",
    "  plt.xlabel(\"Epochs\")\n",
    "  plt.ylabel(\"Loss\")\n",
    "  return plt.show()"
   ]
  },
  {
   "cell_type": "code",
   "execution_count": 21,
   "id": "sr4yIGxEhp8O",
   "metadata": {
    "id": "sr4yIGxEhp8O"
   },
   "outputs": [
    {
     "data": {
      "image/png": "[encoded data removed]",
      "text/plain": [
       "<Figure size 1152x432 with 2 Axes>"
      ]
     },
     "metadata": {
      "needs_background": "light"
     },
     "output_type": "display_data"
    }
   ],
   "source": [
    "ShowPlots(history_1)"
   ]
  },
  {
   "cell_type": "code",
   "execution_count": 22,
   "id": "1-3BYVc2vCD1",
   "metadata": {
    "id": "1-3BYVc2vCD1"
   },
   "outputs": [],
   "source": [
    "y_pred_1 = model_1.predict(x_test)\n",
    "y_pred_1 = np.argmax(y_pred_1, axis=1)  "
   ]
  },
  {
   "cell_type": "code",
   "execution_count": 23,
   "id": "FF1I2Ff8vmIR",
   "metadata": {
    "id": "FF1I2Ff8vmIR"
   },
   "outputs": [],
   "source": [
    "from sklearn.metrics import classification_report,confusion_matrix"
   ]
  },
  {
   "cell_type": "code",
   "execution_count": 24,
   "id": "5rjWhmtRwDcs",
   "metadata": {
    "colab": {
     "base_uri": "https://localhost:8080/"
    },
    "id": "5rjWhmtRwDcs",
    "outputId": "85868ae3-8c06-4c10-92de-f47dae65479a"
   },
   "outputs": [
    {
     "name": "stdout",
     "output_type": "stream",
     "text": [
      "              precision    recall  f1-score   support\n",
      "\n",
      "           0       0.97      0.99      0.98       175\n",
      "           1       0.99      0.98      0.98       234\n",
      "           2       0.95      1.00      0.97       219\n",
      "           3       1.00      0.97      0.98       207\n",
      "           4       0.91      0.99      0.95       217\n",
      "           5       0.99      0.96      0.97       179\n",
      "           6       0.97      0.98      0.97       178\n",
      "           7       0.99      0.94      0.96       205\n",
      "           8       0.98      0.97      0.98       192\n",
      "           9       0.95      0.93      0.94       194\n",
      "\n",
      "    accuracy                           0.97      2000\n",
      "   macro avg       0.97      0.97      0.97      2000\n",
      "weighted avg       0.97      0.97      0.97      2000\n",
      "\n"
     ]
    }
   ],
   "source": [
    "print(classification_report(y_test,y_pred_1))"
   ]
  },
  {
   "cell_type": "code",
   "execution_count": null,
   "id": "c04b53fb",
   "metadata": {},
   "outputs": [],
   "source": []
  }
 ],
 "metadata": {
  "accelerator": "GPU",
  "colab": {
   "collapsed_sections": [],
   "name": "Model_1-MNIST.ipynb",
   "provenance": []
  },
  "kernelspec": {
   "display_name": "Python 3",
   "language": "python",
   "name": "python3"
  },
  "language_info": {
   "codemirror_mode": {
    "name": "ipython",
    "version": 3
   },
   "file_extension": ".py",
   "mimetype": "text/x-python",
   "name": "python",
   "nbconvert_exporter": "python",
   "pygments_lexer": "ipython3",
   "version": "3.8.8"
  }
 },
 "nbformat": 4,
 "nbformat_minor": 5
}
